{
 "cells": [
  {
   "cell_type": "code",
   "execution_count": 54,
   "metadata": {},
   "outputs": [],
   "source": [
    "import glob\n",
    "import os.path as op\n",
    "from nilearn import image\n",
    "from nilearn.masking import apply_mask\n",
    "import numpy as np\n",
    "import pandas as pd"
   ]
  },
  {
   "cell_type": "code",
   "execution_count": 55,
   "metadata": {},
   "outputs": [],
   "source": [
    "derivatives = '/data/odc/derivatives'"
   ]
  },
  {
   "cell_type": "code",
   "execution_count": 56,
   "metadata": {},
   "outputs": [],
   "source": [
    "def get_tsnr_over_depth(subject, session):\n",
    "    v1_l = op.join(derivatives, 'pycortex', 'masks', f'sub-{subject}', f'sub-{subject}_desc-V1l_gm_mask.nii.gz')\n",
    "    v1_r = op.join(derivatives, 'pycortex', 'masks', f'sub-{subject}', f'sub-{subject}_desc-V1r_gm_mask.nii.gz')\n",
    "\n",
    "    depth_l = op.join(derivatives, 'nighres', f'sub-{subject}', 'ses-anat', 'anat', f'sub-{subject}_ses-anat_space-average_desc-layerdepth_hemi-left_depth.nii.gz')\n",
    "    depth_r = op.join(derivatives, 'nighres', f'sub-{subject}', 'ses-anat', 'anat', f'sub-{subject}_ses-anat_space-average_desc-layerdepth_hemi-right_depth.nii.gz')\n",
    "\n",
    "    depth_l = apply_mask(depth_l, v1_l)\n",
    "    depth_r = apply_mask(depth_r, v1_r)\n",
    "    \n",
    "    columns_l = pd.MultiIndex.from_arrays([np.arange(len(depth_l)), depth_l], names=['voxel', 'depth'])\n",
    "    columns_r = pd.MultiIndex.from_arrays([np.arange(len(depth_r)), depth_r], names=['voxel', 'depth'])\n",
    "    \n",
    "    tsnr_filenames = glob.glob(op.join(derivatives, 'tsnr', f'sub-{subject}', f'ses-{session}', 'func', f'sub-{subject}_ses-{session}_task-*_acq-07_run-*_tsnr.nii.gz'))\n",
    "    tsnr = [image.resample_to_img(t, v1_l, interpolation='nearest') for t in tsnr_filenames]    \n",
    "    \n",
    "    tsnr_l = apply_mask(tsnr, v1_l)\n",
    "    tsnr_l = pd.DataFrame(tsnr_l, index=tsnr_filenames, columns=columns_l)\n",
    "\n",
    "    tsnr_r = apply_mask(tsnr, v1_r)\n",
    "    tsnr_r = pd.DataFrame(tsnr_r, index=tsnr_filenames, columns=columns_r)\n",
    "    \n",
    "    return tsnr_l, tsnr_r"
   ]
  },
  {
   "cell_type": "code",
   "execution_count": 57,
   "metadata": {},
   "outputs": [],
   "source": [
    "for subject, session in [('bm', 'odc'), ('de', 'odc1'), ('eo', 'odc'), ('ms', 'odc2'), ('tk', 'odc2'), ('tk', 'odc3'), ('tr', 'odc')][:3]:\n",
    "    tsnr_l, tsnr_r = get_tsnr_over_depth(subject, session)\n",
    "    tsnr = pd.concat((tsnr_l, tsnr_r), keys=['V1_L', 'V1_R'], axis=1, names=['mask'])\n",
    "    tsnr.to_pickle(op.join(derivatives, 'tsnr', f'sub-{subject}', f'ses-{session}', 'func', f'sub-{subject}_ses-{session}_tsnr.pkl'))"
   ]
  },
  {
   "cell_type": "code",
   "execution_count": 58,
   "metadata": {},
   "outputs": [],
   "source": [
    "import seaborn as sns"
   ]
  },
  {
   "cell_type": "code",
   "execution_count": 59,
   "metadata": {},
   "outputs": [],
   "source": [
    "tsnr = []\n",
    "for subject, session in [('bm', 'odc'), ('de', 'odc1'), ('eo', 'odc'), ('ms', 'odc2'), ('tk', 'odc2'), ('tk', 'odc3'), ('tr', 'odc')]:\n",
    "    t = pd.read_pickle(op.join(derivatives, 'tsnr', f'sub-{subject}', f'ses-{session}', 'func', f'sub-{subject}_ses-{session}_tsnr.pkl'))\n",
    "    \n",
    "    t = t.loc[:, ~(t == 0).any(0)].mean().to_frame('tsnr')\n",
    "    t['subject'], t['session'] = subject, session\n",
    "    \n",
    "    t = t.set_index(['subject', 'session'], append=True).reset_index('depth')    \n",
    "    t = t.reorder_levels(['subject', 'session', 'mask', 'voxel'])\n",
    "    \n",
    "    tsnr.append(t)\n",
    "    \n",
    "tsnr = pd.concat(tsnr)"
   ]
  },
  {
   "cell_type": "code",
   "execution_count": 60,
   "metadata": {},
   "outputs": [],
   "source": [
    "tsnr['depth_bin'] = pd.cut(tsnr['depth'], np.linspace(0, 1, 7), labels=np.round(np.linspace(1/7., 1-1/7., 6), 2))"
   ]
  },
  {
   "cell_type": "code",
   "execution_count": 61,
   "metadata": {},
   "outputs": [],
   "source": [
    "tsnr = tsnr.drop([('bm', 'odc', 'V1_L')])"
   ]
  },
  {
   "cell_type": "code",
   "execution_count": 62,
   "metadata": {},
   "outputs": [
    {
     "name": "stderr",
     "output_type": "stream",
     "text": [
      "/Users/gdehol/miniconda3/lib/python3.7/site-packages/scipy/stats/stats.py:1713: FutureWarning: Using a non-tuple sequence for multidimensional indexing is deprecated; use `arr[tuple(seq)]` instead of `arr[seq]`. In the future this will be interpreted as an array index, `arr[np.array(seq)]`, which will result either in an error or a different result.\n",
      "  return np.add.reduce(sorted[indexer] * weights, axis=axis) / sumval\n"
     ]
    },
    {
     "data": {
      "text/plain": [
       "<seaborn.axisgrid.FacetGrid at 0x128b3ba90>"
      ]
     },
     "execution_count": 62,
     "metadata": {},
     "output_type": "execute_result"
    },
    {
     "data": {
      "image/png": "[encoded data removed]",
      "text/plain": [
       "<Figure size 421.125x360 with 1 Axes>"
      ]
     },
     "metadata": {
      "needs_background": "light"
     },
     "output_type": "display_data"
    }
   ],
   "source": [
    "sns.catplot('depth_bin', 'tsnr', 'mask', data=tsnr.reset_index().groupby(['subject', 'mask', 'depth_bin'], as_index=False).mean(), kind='point', ci=67)"
   ]
  },
  {
   "cell_type": "code",
   "execution_count": null,
   "metadata": {},
   "outputs": [],
   "source": []
  }
 ],
 "metadata": {
  "kernelspec": {
   "display_name": "Python 3",
   "language": "python",
   "name": "python3"
  },
  "language_info": {
   "codemirror_mode": {
    "name": "ipython",
    "version": 3
   },
   "file_extension": ".py",
   "mimetype": "text/x-python",
   "name": "python",
   "nbconvert_exporter": "python",
   "pygments_lexer": "ipython3",
   "version": "3.7.4"
  }
 },
 "nbformat": 4,
 "nbformat_minor": 4
}
