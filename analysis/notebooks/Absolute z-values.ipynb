{
 "cells": [
  {
   "cell_type": "code",
   "execution_count": 1,
   "metadata": {},
   "outputs": [
    {
     "name": "stderr",
     "output_type": "stream",
     "text": [
      "/Users/gdehol/miniconda3/lib/python3.7/site-packages/sklearn/externals/joblib/__init__.py:15: DeprecationWarning: sklearn.externals.joblib is deprecated in 0.21 and will be removed in 0.23. Please import this functionality directly from joblib, which can be installed with: pip install joblib. If this warning is raised when loading pickled models, you may need to re-serialize those models with scikit-learn 0.21+.\n",
      "  warnings.warn(msg, category=DeprecationWarning)\n"
     ]
    }
   ],
   "source": [
    "from nilearn import surface"
   ]
  },
  {
   "cell_type": "code",
   "execution_count": 2,
   "metadata": {},
   "outputs": [],
   "source": [
    "import cortex"
   ]
  },
  {
   "cell_type": "code",
   "execution_count": 3,
   "metadata": {},
   "outputs": [],
   "source": [
    "import numpy as np\n",
    "import scipy.stats as ss"
   ]
  },
  {
   "cell_type": "code",
   "execution_count": 4,
   "metadata": {},
   "outputs": [
    {
     "name": "stderr",
     "output_type": "stream",
     "text": [
      "/Users/gdehol/git/pycortex/cortex/svgoverlay.py:465: UserWarning: Requested layer in svg file (Freesurfer V1) contains no splines\n",
      "  warnings.warn(\"Requested layer in svg file (%s) contains no splines\"%self.name)\n",
      "/Users/gdehol/git/pycortex/cortex/svgoverlay.py:465: UserWarning: Requested layer in svg file (Freesurfer V2) contains no splines\n",
      "  warnings.warn(\"Requested layer in svg file (%s) contains no splines\"%self.name)\n"
     ]
    }
   ],
   "source": [
    "results_ = []\n",
    "for subject, session in [('bm', 'odc'),\n",
    "                         ('de', 'odc1'),\n",
    "                         ('eo', 'odc'),\n",
    "                         ('ms', 'odc2'),\n",
    "#                          ('ns', 'odc'),\n",
    "                         ('tk', 'odc2'),\n",
    "                         ('tk', 'odc3'),                         \n",
    "                         ('tr', 'odc')]:\n",
    "    \n",
    "    left, right = cortex.db.get_surf(f'odc.{subject}', 'fiducial')\n",
    "    \n",
    "    masks = cortex.utils.get_roi_verts(f'odc.{subject}')\n",
    "    \n",
    "    for hemi in ['lh', 'rh']:\n",
    "        \n",
    "        if not ((subject == 'bm') & (hemi == 'lh')):\n",
    "            zmap = surface.load_surf_data(f'/data/odc/derivatives/sampled_giis.bak/sub-{subject}/ses-{session}/func/sub-{subject}_ses-{session}_left_over_right_desc-abszmap-depth-all_hemi-{hemi}.gii')\n",
    "\n",
    "            for mask in masks:\n",
    "\n",
    "                if mask[-1] == hemi[0]:\n",
    "                    m = masks[mask]\n",
    "\n",
    "                    if hemi == 'rh':\n",
    "                        m -= len(left[0])\n",
    "\n",
    "                    z_values = zmap[m]\n",
    "\n",
    "                    z_values = z_values[z_values > 0.25]\n",
    "                    results_.append({'subject':subject,\n",
    "                                    'session':session,\n",
    "                                    'Mask':mask,\n",
    "                                    'hemi':hemi,\n",
    "                                     'mean z-value':z_values.mean(),\n",
    "                                     'z-values larger than 1.96':(z_values > ss.norm.ppf(0.975)).mean(),                               \n",
    "                                     'z-values larger than 2.3':(z_values > 2.3).mean()})\n",
    "#                                     'z-value':z_values})\n"
   ]
  },
  {
   "cell_type": "code",
   "execution_count": 5,
   "metadata": {},
   "outputs": [],
   "source": [
    "import pandas as pd"
   ]
  },
  {
   "cell_type": "code",
   "execution_count": 6,
   "metadata": {},
   "outputs": [],
   "source": [
    "results = pd.DataFrame(results_)"
   ]
  },
  {
   "cell_type": "code",
   "execution_count": 7,
   "metadata": {},
   "outputs": [],
   "source": [
    "results = results.pivot_table(index=['subject', 'session'], columns=['Mask'], values='z-values larger than 1.96')"
   ]
  },
  {
   "cell_type": "code",
   "execution_count": 8,
   "metadata": {},
   "outputs": [],
   "source": [
    "results['V2l'] = results.loc[:, ['V2dl', 'V2vl']].mean(1, skipna=True)\n",
    "results['V2r'] = results.loc[:, ['V2dr', 'V2vr']].mean(1, skipna=True)"
   ]
  },
  {
   "cell_type": "code",
   "execution_count": 9,
   "metadata": {},
   "outputs": [],
   "source": [
    "import seaborn as sns"
   ]
  },
  {
   "cell_type": "code",
   "execution_count": 10,
   "metadata": {},
   "outputs": [],
   "source": [
    "sns.set_context('poster')"
   ]
  },
  {
   "cell_type": "code",
   "execution_count": 11,
   "metadata": {},
   "outputs": [],
   "source": [
    "import numpy as np"
   ]
  },
  {
   "cell_type": "code",
   "execution_count": 12,
   "metadata": {},
   "outputs": [],
   "source": [
    "import matplotlib.pyplot as plt"
   ]
  },
  {
   "cell_type": "code",
   "execution_count": 13,
   "metadata": {},
   "outputs": [],
   "source": [
    "sns.set(font='Helvetica', style='white', context='poster')"
   ]
  },
  {
   "cell_type": "code",
   "execution_count": 14,
   "metadata": {},
   "outputs": [],
   "source": [
    "   from matplotlib.backends.backend_pdf import PdfPages\n"
   ]
  },
  {
   "cell_type": "code",
   "execution_count": 16,
   "metadata": {},
   "outputs": [
    {
     "ename": "SyntaxError",
     "evalue": "invalid syntax (<ipython-input-16-e824dfb853dc>, line 1)",
     "output_type": "error",
     "traceback": [
      "\u001b[0;36m  File \u001b[0;32m\"<ipython-input-16-e824dfb853dc>\"\u001b[0;36m, line \u001b[0;32m1\u001b[0m\n\u001b[0;31m    https://www.physiology.org/doi/full/10.1152/jn.00088.2015\u001b[0m\n\u001b[0m           ^\u001b[0m\n\u001b[0;31mSyntaxError\u001b[0m\u001b[0;31m:\u001b[0m invalid syntax\n"
     ]
    }
   ],
   "source": [
    "https://www.physiology.org/doi/full/10.1152/jn.00088.2015"
   ]
  },
  {
   "cell_type": "code",
   "execution_count": 27,
   "metadata": {},
   "outputs": [
    {
     "data": {
      "text/plain": [
       "Ttest_relResult(statistic=2.0053088439589106, pvalue=0.10125081069671858)"
      ]
     },
     "execution_count": 27,
     "metadata": {},
     "output_type": "execute_result"
    }
   ],
   "source": [
    "ss.ttest_rel(results['V1l'].iloc[1:], results['V2l'].iloc[1:])"
   ]
  },
  {
   "cell_type": "code",
   "execution_count": 22,
   "metadata": {},
   "outputs": [
    {
     "data": {
      "text/plain": [
       "Ttest_relResult(statistic=1.5505141127172017, pvalue=0.17199717105153423)"
      ]
     },
     "execution_count": 22,
     "metadata": {},
     "output_type": "execute_result"
    }
   ],
   "source": [
    "ss.ttest_rel(results['V1r'].iloc[:], results['V2r'].iloc[:])"
   ]
  },
  {
   "cell_type": "code",
   "execution_count": 24,
   "metadata": {},
   "outputs": [
    {
     "name": "stderr",
     "output_type": "stream",
     "text": [
      "/Users/gdehol/miniconda3/lib/python3.7/site-packages/scipy/stats/morestats.py:2863: UserWarning: Sample size too small for normal approximation.\n",
      "  warnings.warn(\"Sample size too small for normal approximation.\")\n"
     ]
    },
    {
     "data": {
      "text/plain": [
       "WilcoxonResult(statistic=2.0, pvalue=0.07473549830588248)"
      ]
     },
     "execution_count": 24,
     "metadata": {},
     "output_type": "execute_result"
    }
   ],
   "source": [
    "ss.wilcoxon(results['V1l'].iloc[1:], results['V2l'].iloc[1:])"
   ]
  },
  {
   "cell_type": "code",
   "execution_count": 25,
   "metadata": {},
   "outputs": [
    {
     "data": {
      "text/plain": [
       "WilcoxonResult(statistic=6.0, pvalue=0.3454475304692257)"
      ]
     },
     "execution_count": 25,
     "metadata": {},
     "output_type": "execute_result"
    }
   ],
   "source": [
    "ss.wilcoxon(results['V1r'].iloc[1:], results['V2r'].iloc[1:])"
   ]
  },
  {
   "cell_type": "code",
   "execution_count": 23,
   "metadata": {},
   "outputs": [
    {
     "name": "stderr",
     "output_type": "stream",
     "text": [
      "/Users/gdehol/miniconda3/lib/python3.7/site-packages/seaborn/categorical.py:3666: UserWarning: The `factorplot` function has been renamed to `catplot`. The original name will be removed in a future release. Please update your code. Note that the default `kind` in `factorplot` (`'point'`) has changed `'strip'` in `catplot`.\n",
      "  warnings.warn(msg)\n",
      "/Users/gdehol/miniconda3/lib/python3.7/site-packages/seaborn/categorical.py:3672: UserWarning: The `size` paramter has been renamed to `height`; please update your code.\n",
      "  warnings.warn(msg, UserWarning)\n"
     ]
    },
    {
     "data": {
      "image/png": "[encoded data removed]",
      "text/plain": [
       "<Figure size 504x504 with 1 Axes>"
      ]
     },
     "metadata": {},
     "output_type": "display_data"
    }
   ],
   "source": [
    "fac = sns.factorplot('Mask', 'Significant z-values at p<0.05', data=results.melt(value_name='Significant z-values at p<0.05'), \n",
    "          kind='swarm', \n",
    "           order=['V1l', 'V1r', 'V2l', 'V2r'], \n",
    "           palette=np.repeat(sns.color_palette()[6:], 2, axis=0), aspect=1.,\n",
    "           ci=67,\n",
    "           size=7.)\n",
    "\n",
    "\n",
    "fac.set_xlabels('')\n",
    "\n",
    "sns.despine()\n",
    "\n",
    "plt.axhline(0.05, c='k', ls='--')\n",
    "plt.savefig('/Users/gdehol/Dropbox/Science/7t_binocular/paper/figures/known_patterns/V1-V2_barplot.svg')"
   ]
  },
  {
   "cell_type": "code",
   "execution_count": null,
   "metadata": {},
   "outputs": [],
   "source": []
  },
  {
   "cell_type": "code",
   "execution_count": 17,
   "metadata": {},
   "outputs": [
    {
     "name": "stderr",
     "output_type": "stream",
     "text": [
      "/Users/gdehol/miniconda3/lib/python3.7/site-packages/seaborn/categorical.py:3666: UserWarning: The `factorplot` function has been renamed to `catplot`. The original name will be removed in a future release. Please update your code. Note that the default `kind` in `factorplot` (`'point'`) has changed `'strip'` in `catplot`.\n",
      "  warnings.warn(msg)\n",
      "/Users/gdehol/miniconda3/lib/python3.7/site-packages/seaborn/categorical.py:3672: UserWarning: The `size` paramter has been renamed to `height`; please update your code.\n",
      "  warnings.warn(msg, UserWarning)\n"
     ]
    },
    {
     "data": {
      "image/png": "[encoded data removed]",
      "text/plain": [
       "<Figure size 504x504 with 1 Axes>"
      ]
     },
     "metadata": {},
     "output_type": "display_data"
    }
   ],
   "source": [
    "fac = sns.factorplot('Mask', 'Significant z-values at p<0.05', data=results.melt(value_name='Significant z-values at p<0.05'), \n",
    "          kind='bar', \n",
    "           order=['V1l', 'V1r', 'V2l', 'V2r'], \n",
    "           palette=np.repeat(sns.color_palette()[6:], 2, axis=0), aspect=1.,\n",
    "           ci=67,\n",
    "           size=7.)\n",
    "\n",
    "\n",
    "fac.set_xlabels('')\n",
    "\n",
    "sns.despine()\n",
    "\n",
    "plt.axhline(0.05, c='k', ls='--')\n",
    "plt.savefig('/Users/gdehol/Dropbox/Science/7t_binocular/paper/figures/known_patterns/V1-V2_barplot.svg')"
   ]
  },
  {
   "cell_type": "code",
   "execution_count": 46,
   "metadata": {},
   "outputs": [
    {
     "data": {
      "image/png": "[encoded data removed]",
      "text/plain": [
       "<Figure size 432x288 with 1 Axes>"
      ]
     },
     "metadata": {},
     "output_type": "display_data"
    }
   ],
   "source": [
    "from matplotlib.lines import Line2D\n",
    "\n",
    "custom_lines = [Line2D([0], [0], ls='--', lw=3., c='k')]\n",
    "\n",
    "leg = plt.legend(custom_lines, ['Expected proportion under\\nthe null hypothesis (p=0.05)'])\n",
    "leg.get_frame().set_linewidth(0.0)\n",
    "\n",
    "plt.axis('off')\n",
    "plt.savefig('/Users/gdehol/Dropbox/Science/7t_binocular/paper/figures/known_patterns/V1-V2_barplot_legend.svg', \n",
    "            transparent=True)"
   ]
  },
  {
   "cell_type": "code",
   "execution_count": 24,
   "metadata": {},
   "outputs": [
    {
     "data": {
      "text/plain": [
       "Mask\n",
       "V1l    0.071144\n",
       "V1r    0.059897\n",
       "V2l    0.039186\n",
       "V2r    0.059455\n",
       "dtype: float64"
      ]
     },
     "execution_count": 24,
     "metadata": {},
     "output_type": "execute_result"
    }
   ],
   "source": [
    "results[['V1l', 'V1r', 'V2l', 'V2r']].std()"
   ]
  },
  {
   "cell_type": "code",
   "execution_count": 110,
   "metadata": {},
   "outputs": [
    {
     "data": {
      "text/html": [
       "<div>\n",
       "<style scoped>\n",
       "    .dataframe tbody tr th:only-of-type {\n",
       "        vertical-align: middle;\n",
       "    }\n",
       "\n",
       "    .dataframe tbody tr th {\n",
       "        vertical-align: top;\n",
       "    }\n",
       "\n",
       "    .dataframe thead th {\n",
       "        text-align: right;\n",
       "    }\n",
       "</style>\n",
       "<table border=\"1\" class=\"dataframe\">\n",
       "  <thead>\n",
       "    <tr style=\"text-align: right;\">\n",
       "      <th></th>\n",
       "      <th>Mask</th>\n",
       "      <th>V1l</th>\n",
       "      <th>V1r</th>\n",
       "      <th>V2dl</th>\n",
       "      <th>V2dr</th>\n",
       "      <th>V2vl</th>\n",
       "      <th>V2vr</th>\n",
       "      <th>V2l</th>\n",
       "      <th>V2r</th>\n",
       "      <th>V1</th>\n",
       "      <th>V2</th>\n",
       "    </tr>\n",
       "    <tr>\n",
       "      <th>subject</th>\n",
       "      <th>session</th>\n",
       "      <th></th>\n",
       "      <th></th>\n",
       "      <th></th>\n",
       "      <th></th>\n",
       "      <th></th>\n",
       "      <th></th>\n",
       "      <th></th>\n",
       "      <th></th>\n",
       "      <th></th>\n",
       "      <th></th>\n",
       "    </tr>\n",
       "  </thead>\n",
       "  <tbody>\n",
       "    <tr>\n",
       "      <th>bm</th>\n",
       "      <th>odc</th>\n",
       "      <td>NaN</td>\n",
       "      <td>0.177281</td>\n",
       "      <td>NaN</td>\n",
       "      <td>0.037091</td>\n",
       "      <td>NaN</td>\n",
       "      <td>NaN</td>\n",
       "      <td>NaN</td>\n",
       "      <td>0.037091</td>\n",
       "      <td>0.177281</td>\n",
       "      <td>0.037091</td>\n",
       "    </tr>\n",
       "    <tr>\n",
       "      <th>de</th>\n",
       "      <th>odc1</th>\n",
       "      <td>0.147520</td>\n",
       "      <td>0.064785</td>\n",
       "      <td>0.097465</td>\n",
       "      <td>0.181785</td>\n",
       "      <td>NaN</td>\n",
       "      <td>NaN</td>\n",
       "      <td>0.097465</td>\n",
       "      <td>0.181785</td>\n",
       "      <td>0.106152</td>\n",
       "      <td>0.139625</td>\n",
       "    </tr>\n",
       "    <tr>\n",
       "      <th>eo</th>\n",
       "      <th>odc</th>\n",
       "      <td>0.054327</td>\n",
       "      <td>0.159236</td>\n",
       "      <td>0.091135</td>\n",
       "      <td>0.065157</td>\n",
       "      <td>NaN</td>\n",
       "      <td>NaN</td>\n",
       "      <td>0.091135</td>\n",
       "      <td>0.065157</td>\n",
       "      <td>0.106781</td>\n",
       "      <td>0.078146</td>\n",
       "    </tr>\n",
       "    <tr>\n",
       "      <th>ms</th>\n",
       "      <th>odc2</th>\n",
       "      <td>0.017411</td>\n",
       "      <td>0.016094</td>\n",
       "      <td>0.014143</td>\n",
       "      <td>0.012548</td>\n",
       "      <td>NaN</td>\n",
       "      <td>NaN</td>\n",
       "      <td>0.014143</td>\n",
       "      <td>0.012548</td>\n",
       "      <td>0.016753</td>\n",
       "      <td>0.013345</td>\n",
       "    </tr>\n",
       "    <tr>\n",
       "      <th rowspan=\"2\" valign=\"top\">tk</th>\n",
       "      <th>odc2</th>\n",
       "      <td>0.094355</td>\n",
       "      <td>0.097815</td>\n",
       "      <td>0.055692</td>\n",
       "      <td>0.026286</td>\n",
       "      <td>0.010147</td>\n",
       "      <td>0.008000</td>\n",
       "      <td>0.032919</td>\n",
       "      <td>0.017143</td>\n",
       "      <td>0.096085</td>\n",
       "      <td>0.025031</td>\n",
       "    </tr>\n",
       "    <tr>\n",
       "      <th>odc3</th>\n",
       "      <td>0.219716</td>\n",
       "      <td>0.149326</td>\n",
       "      <td>0.088021</td>\n",
       "      <td>0.066246</td>\n",
       "      <td>0.048193</td>\n",
       "      <td>0.008396</td>\n",
       "      <td>0.068107</td>\n",
       "      <td>0.037321</td>\n",
       "      <td>0.184521</td>\n",
       "      <td>0.052714</td>\n",
       "    </tr>\n",
       "    <tr>\n",
       "      <th>tr</th>\n",
       "      <th>odc</th>\n",
       "      <td>0.107498</td>\n",
       "      <td>0.062204</td>\n",
       "      <td>0.012953</td>\n",
       "      <td>0.025051</td>\n",
       "      <td>0.001101</td>\n",
       "      <td>0.016000</td>\n",
       "      <td>0.007027</td>\n",
       "      <td>0.020525</td>\n",
       "      <td>0.084851</td>\n",
       "      <td>0.013776</td>\n",
       "    </tr>\n",
       "  </tbody>\n",
       "</table>\n",
       "</div>"
      ],
      "text/plain": [
       "Mask                  V1l       V1r      V2dl      V2dr      V2vl      V2vr  \\\n",
       "subject session                                                               \n",
       "bm      odc           NaN  0.177281       NaN  0.037091       NaN       NaN   \n",
       "de      odc1     0.147520  0.064785  0.097465  0.181785       NaN       NaN   \n",
       "eo      odc      0.054327  0.159236  0.091135  0.065157       NaN       NaN   \n",
       "ms      odc2     0.017411  0.016094  0.014143  0.012548       NaN       NaN   \n",
       "tk      odc2     0.094355  0.097815  0.055692  0.026286  0.010147  0.008000   \n",
       "        odc3     0.219716  0.149326  0.088021  0.066246  0.048193  0.008396   \n",
       "tr      odc      0.107498  0.062204  0.012953  0.025051  0.001101  0.016000   \n",
       "\n",
       "Mask                  V2l       V2r        V1        V2  \n",
       "subject session                                          \n",
       "bm      odc           NaN  0.037091  0.177281  0.037091  \n",
       "de      odc1     0.097465  0.181785  0.106152  0.139625  \n",
       "eo      odc      0.091135  0.065157  0.106781  0.078146  \n",
       "ms      odc2     0.014143  0.012548  0.016753  0.013345  \n",
       "tk      odc2     0.032919  0.017143  0.096085  0.025031  \n",
       "        odc3     0.068107  0.037321  0.184521  0.052714  \n",
       "tr      odc      0.007027  0.020525  0.084851  0.013776  "
      ]
     },
     "execution_count": 110,
     "metadata": {},
     "output_type": "execute_result"
    }
   ],
   "source": [
    "sns.factorplot('Mask', 'Significant z-values at p<0.05', data=results.melt(value_name='Mean z-value'), \n",
    "              kind='bar', \n",
    "               order=['V1l', 'V1r', 'V2l', 'V2r'], \n",
    "               palette=np.repeat(sns.color_palette()[2:], 2, axis=0), aspect=2.,\n",
    "               ci=95,\n",
    "               size=10)\n",
    "\n",
    "plt.axhline(0.05, c='k', ls='--')"
   ]
  },
  {
   "cell_type": "code",
   "execution_count": 40,
   "metadata": {},
   "outputs": [],
   "source": [
    "from statsmodels.stats.anova import AnovaRM"
   ]
  },
  {
   "cell_type": "code",
   "execution_count": null,
   "metadata": {},
   "outputs": [],
   "source": [
    "AnovaRM()"
   ]
  },
  {
   "cell_type": "code",
   "execution_count": 42,
   "metadata": {},
   "outputs": [
    {
     "data": {
      "text/html": [
       "<div>\n",
       "<style scoped>\n",
       "    .dataframe tbody tr th:only-of-type {\n",
       "        vertical-align: middle;\n",
       "    }\n",
       "\n",
       "    .dataframe tbody tr th {\n",
       "        vertical-align: top;\n",
       "    }\n",
       "\n",
       "    .dataframe thead th {\n",
       "        text-align: right;\n",
       "    }\n",
       "</style>\n",
       "<table border=\"1\" class=\"dataframe\">\n",
       "  <thead>\n",
       "    <tr style=\"text-align: right;\">\n",
       "      <th></th>\n",
       "      <th>Mask</th>\n",
       "      <th>V1l</th>\n",
       "      <th>V1r</th>\n",
       "      <th>V2dl</th>\n",
       "      <th>V2dr</th>\n",
       "      <th>V2vl</th>\n",
       "      <th>V2vr</th>\n",
       "      <th>V2l</th>\n",
       "      <th>V2r</th>\n",
       "    </tr>\n",
       "    <tr>\n",
       "      <th>subject</th>\n",
       "      <th>session</th>\n",
       "      <th></th>\n",
       "      <th></th>\n",
       "      <th></th>\n",
       "      <th></th>\n",
       "      <th></th>\n",
       "      <th></th>\n",
       "      <th></th>\n",
       "      <th></th>\n",
       "    </tr>\n",
       "  </thead>\n",
       "  <tbody>\n",
       "    <tr>\n",
       "      <th>bm</th>\n",
       "      <th>odc</th>\n",
       "      <td>NaN</td>\n",
       "      <td>0.177281</td>\n",
       "      <td>NaN</td>\n",
       "      <td>0.037091</td>\n",
       "      <td>NaN</td>\n",
       "      <td>NaN</td>\n",
       "      <td>NaN</td>\n",
       "      <td>0.037091</td>\n",
       "    </tr>\n",
       "    <tr>\n",
       "      <th>de</th>\n",
       "      <th>odc1</th>\n",
       "      <td>0.147520</td>\n",
       "      <td>0.064785</td>\n",
       "      <td>0.097465</td>\n",
       "      <td>0.181785</td>\n",
       "      <td>NaN</td>\n",
       "      <td>NaN</td>\n",
       "      <td>0.097465</td>\n",
       "      <td>0.181785</td>\n",
       "    </tr>\n",
       "    <tr>\n",
       "      <th>eo</th>\n",
       "      <th>odc</th>\n",
       "      <td>0.054327</td>\n",
       "      <td>0.159236</td>\n",
       "      <td>0.091135</td>\n",
       "      <td>0.065157</td>\n",
       "      <td>NaN</td>\n",
       "      <td>NaN</td>\n",
       "      <td>0.091135</td>\n",
       "      <td>0.065157</td>\n",
       "    </tr>\n",
       "    <tr>\n",
       "      <th>ms</th>\n",
       "      <th>odc2</th>\n",
       "      <td>0.017411</td>\n",
       "      <td>0.016094</td>\n",
       "      <td>0.014143</td>\n",
       "      <td>0.012548</td>\n",
       "      <td>NaN</td>\n",
       "      <td>NaN</td>\n",
       "      <td>0.014143</td>\n",
       "      <td>0.012548</td>\n",
       "    </tr>\n",
       "    <tr>\n",
       "      <th>tk</th>\n",
       "      <th>odc2</th>\n",
       "      <td>0.094355</td>\n",
       "      <td>0.097815</td>\n",
       "      <td>0.055692</td>\n",
       "      <td>0.026286</td>\n",
       "      <td>0.010147</td>\n",
       "      <td>0.008</td>\n",
       "      <td>0.032919</td>\n",
       "      <td>0.017143</td>\n",
       "    </tr>\n",
       "  </tbody>\n",
       "</table>\n",
       "</div>"
      ],
      "text/plain": [
       "Mask                  V1l       V1r      V2dl      V2dr      V2vl   V2vr  \\\n",
       "subject session                                                            \n",
       "bm      odc           NaN  0.177281       NaN  0.037091       NaN    NaN   \n",
       "de      odc1     0.147520  0.064785  0.097465  0.181785       NaN    NaN   \n",
       "eo      odc      0.054327  0.159236  0.091135  0.065157       NaN    NaN   \n",
       "ms      odc2     0.017411  0.016094  0.014143  0.012548       NaN    NaN   \n",
       "tk      odc2     0.094355  0.097815  0.055692  0.026286  0.010147  0.008   \n",
       "\n",
       "Mask                  V2l       V2r  \n",
       "subject session                      \n",
       "bm      odc           NaN  0.037091  \n",
       "de      odc1     0.097465  0.181785  \n",
       "eo      odc      0.091135  0.065157  \n",
       "ms      odc2     0.014143  0.012548  \n",
       "tk      odc2     0.032919  0.017143  "
      ]
     },
     "execution_count": 42,
     "metadata": {},
     "output_type": "execute_result"
    }
   ],
   "source": [
    "results.head()"
   ]
  },
  {
   "cell_type": "code",
   "execution_count": 45,
   "metadata": {},
   "outputs": [
    {
     "data": {
      "text/html": [
       "<div>\n",
       "<style scoped>\n",
       "    .dataframe tbody tr th:only-of-type {\n",
       "        vertical-align: middle;\n",
       "    }\n",
       "\n",
       "    .dataframe tbody tr th {\n",
       "        vertical-align: top;\n",
       "    }\n",
       "\n",
       "    .dataframe thead th {\n",
       "        text-align: right;\n",
       "    }\n",
       "</style>\n",
       "<table border=\"1\" class=\"dataframe\">\n",
       "  <thead>\n",
       "    <tr style=\"text-align: right;\">\n",
       "      <th>Mask</th>\n",
       "      <th>subject</th>\n",
       "      <th>session</th>\n",
       "      <th>V1l</th>\n",
       "      <th>V1r</th>\n",
       "      <th>V2dl</th>\n",
       "      <th>V2dr</th>\n",
       "      <th>V2vl</th>\n",
       "      <th>V2vr</th>\n",
       "      <th>V2l</th>\n",
       "      <th>V2r</th>\n",
       "    </tr>\n",
       "  </thead>\n",
       "  <tbody>\n",
       "    <tr>\n",
       "      <th>0</th>\n",
       "      <td>bm</td>\n",
       "      <td>odc</td>\n",
       "      <td>NaN</td>\n",
       "      <td>0.177281</td>\n",
       "      <td>NaN</td>\n",
       "      <td>0.037091</td>\n",
       "      <td>NaN</td>\n",
       "      <td>NaN</td>\n",
       "      <td>NaN</td>\n",
       "      <td>0.037091</td>\n",
       "    </tr>\n",
       "    <tr>\n",
       "      <th>1</th>\n",
       "      <td>de</td>\n",
       "      <td>odc1</td>\n",
       "      <td>0.147520</td>\n",
       "      <td>0.064785</td>\n",
       "      <td>0.097465</td>\n",
       "      <td>0.181785</td>\n",
       "      <td>NaN</td>\n",
       "      <td>NaN</td>\n",
       "      <td>0.097465</td>\n",
       "      <td>0.181785</td>\n",
       "    </tr>\n",
       "    <tr>\n",
       "      <th>2</th>\n",
       "      <td>eo</td>\n",
       "      <td>odc</td>\n",
       "      <td>0.054327</td>\n",
       "      <td>0.159236</td>\n",
       "      <td>0.091135</td>\n",
       "      <td>0.065157</td>\n",
       "      <td>NaN</td>\n",
       "      <td>NaN</td>\n",
       "      <td>0.091135</td>\n",
       "      <td>0.065157</td>\n",
       "    </tr>\n",
       "    <tr>\n",
       "      <th>3</th>\n",
       "      <td>ms</td>\n",
       "      <td>odc2</td>\n",
       "      <td>0.017411</td>\n",
       "      <td>0.016094</td>\n",
       "      <td>0.014143</td>\n",
       "      <td>0.012548</td>\n",
       "      <td>NaN</td>\n",
       "      <td>NaN</td>\n",
       "      <td>0.014143</td>\n",
       "      <td>0.012548</td>\n",
       "    </tr>\n",
       "    <tr>\n",
       "      <th>4</th>\n",
       "      <td>tk</td>\n",
       "      <td>odc2</td>\n",
       "      <td>0.094355</td>\n",
       "      <td>0.097815</td>\n",
       "      <td>0.055692</td>\n",
       "      <td>0.026286</td>\n",
       "      <td>0.010147</td>\n",
       "      <td>0.008000</td>\n",
       "      <td>0.032919</td>\n",
       "      <td>0.017143</td>\n",
       "    </tr>\n",
       "    <tr>\n",
       "      <th>5</th>\n",
       "      <td>tk</td>\n",
       "      <td>odc3</td>\n",
       "      <td>0.219716</td>\n",
       "      <td>0.149326</td>\n",
       "      <td>0.088021</td>\n",
       "      <td>0.066246</td>\n",
       "      <td>0.048193</td>\n",
       "      <td>0.008396</td>\n",
       "      <td>0.068107</td>\n",
       "      <td>0.037321</td>\n",
       "    </tr>\n",
       "    <tr>\n",
       "      <th>6</th>\n",
       "      <td>tr</td>\n",
       "      <td>odc</td>\n",
       "      <td>0.107498</td>\n",
       "      <td>0.062204</td>\n",
       "      <td>0.012953</td>\n",
       "      <td>0.025051</td>\n",
       "      <td>0.001101</td>\n",
       "      <td>0.016000</td>\n",
       "      <td>0.007027</td>\n",
       "      <td>0.020525</td>\n",
       "    </tr>\n",
       "  </tbody>\n",
       "</table>\n",
       "</div>"
      ],
      "text/plain": [
       "Mask subject session       V1l       V1r      V2dl      V2dr      V2vl  \\\n",
       "0         bm     odc       NaN  0.177281       NaN  0.037091       NaN   \n",
       "1         de    odc1  0.147520  0.064785  0.097465  0.181785       NaN   \n",
       "2         eo     odc  0.054327  0.159236  0.091135  0.065157       NaN   \n",
       "3         ms    odc2  0.017411  0.016094  0.014143  0.012548       NaN   \n",
       "4         tk    odc2  0.094355  0.097815  0.055692  0.026286  0.010147   \n",
       "5         tk    odc3  0.219716  0.149326  0.088021  0.066246  0.048193   \n",
       "6         tr     odc  0.107498  0.062204  0.012953  0.025051  0.001101   \n",
       "\n",
       "Mask      V2vr       V2l       V2r  \n",
       "0          NaN       NaN  0.037091  \n",
       "1          NaN  0.097465  0.181785  \n",
       "2          NaN  0.091135  0.065157  \n",
       "3          NaN  0.014143  0.012548  \n",
       "4     0.008000  0.032919  0.017143  \n",
       "5     0.008396  0.068107  0.037321  \n",
       "6     0.016000  0.007027  0.020525  "
      ]
     },
     "execution_count": 45,
     "metadata": {},
     "output_type": "execute_result"
    }
   ],
   "source": [
    "results.reset_index()"
   ]
  },
  {
   "cell_type": "code",
   "execution_count": 96,
   "metadata": {},
   "outputs": [
    {
     "data": {
      "text/plain": [
       "subject  session\n",
       "bm       odc        False\n",
       "de       odc1        True\n",
       "eo       odc        False\n",
       "ms       odc2        True\n",
       "tk       odc2        True\n",
       "         odc3        True\n",
       "tr       odc         True\n",
       "dtype: bool"
      ]
     },
     "execution_count": 96,
     "metadata": {},
     "output_type": "execute_result"
    }
   ],
   "source": [
    "tmp = results.reset_index()[['subject', 'session', 'V1l', 'V1r', 'V2l', 'V2r']].melt(value_name='Significant z-values at p<0.05', id_vars=['subject', 'session'])\n",
    "tmp = tmp[~tmp.isnull().any(1)]\n",
    "\n",
    "tmp = tmp.pivot_table(index=['subject', 'session'], columns='Mask', values='Significant z-values at p<0.05')\n",
    "\n",
    "tmp['V1l'] > tmp['V2l']"
   ]
  },
  {
   "cell_type": "code",
   "execution_count": 97,
   "metadata": {},
   "outputs": [
    {
     "data": {
      "text/plain": [
       "subject  session\n",
       "bm       odc         True\n",
       "de       odc1       False\n",
       "eo       odc         True\n",
       "ms       odc2        True\n",
       "tk       odc2        True\n",
       "         odc3        True\n",
       "tr       odc         True\n",
       "dtype: bool"
      ]
     },
     "execution_count": 97,
     "metadata": {},
     "output_type": "execute_result"
    }
   ],
   "source": [
    "tmp['V1r'] > tmp['V2r']"
   ]
  },
  {
   "cell_type": "code",
   "execution_count": 100,
   "metadata": {},
   "outputs": [],
   "source": [
    "results['V1'] = results[['V1l', 'V1r']].mean(1)\n",
    "results['V2'] = results[['V2l', 'V2r']].mean(1)"
   ]
  },
  {
   "cell_type": "code",
   "execution_count": 104,
   "metadata": {},
   "outputs": [],
   "source": [
    "tmp = results.reset_index()[['subject', 'session', 'V1', 'V2']].melt(value_name='Significant z-values at p<0.05', id_vars=['subject', 'session'])\n",
    "tmp = tmp[~tmp.isnull().any(1)]\n",
    "tmp = tmp.pivot_table(index=['subject', 'session'], columns='Mask', values='Significant z-values at p<0.05')\n"
   ]
  },
  {
   "cell_type": "code",
   "execution_count": 105,
   "metadata": {},
   "outputs": [
    {
     "name": "stderr",
     "output_type": "stream",
     "text": [
      "/Users/gdehol/miniconda3/envs/pycortex/lib/python3.7/site-packages/scipy/stats/morestats.py:2863: UserWarning: Sample size too small for normal approximation.\n",
      "  warnings.warn(\"Sample size too small for normal approximation.\")\n"
     ]
    },
    {
     "data": {
      "text/plain": [
       "WilcoxonResult(statistic=3.0, pvalue=0.06297905121445523)"
      ]
     },
     "execution_count": 105,
     "metadata": {},
     "output_type": "execute_result"
    }
   ],
   "source": [
    "ss.wilcoxon(tmp['V1'], tmp['V2'])"
   ]
  },
  {
   "cell_type": "code",
   "execution_count": null,
   "metadata": {},
   "outputs": [],
   "source": []
  }
 ],
 "metadata": {
  "kernelspec": {
   "display_name": "Python 3",
   "language": "python",
   "name": "python3"
  },
  "language_info": {
   "codemirror_mode": {
    "name": "ipython",
    "version": 3
   },
   "file_extension": ".py",
   "mimetype": "text/x-python",
   "name": "python",
   "nbconvert_exporter": "python",
   "pygments_lexer": "ipython3",
   "version": "3.7.3"
  }
 },
 "nbformat": 4,
 "nbformat_minor": 2
}
