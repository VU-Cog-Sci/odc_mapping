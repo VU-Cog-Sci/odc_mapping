{
 "cells": [
  {
   "cell_type": "code",
   "execution_count": 537,
   "metadata": {},
   "outputs": [],
   "source": [
    "import pandas as pd"
   ]
  },
  {
   "cell_type": "code",
   "execution_count": 538,
   "metadata": {},
   "outputs": [],
   "source": [
    "import cortex"
   ]
  },
  {
   "cell_type": "code",
   "execution_count": 539,
   "metadata": {},
   "outputs": [],
   "source": [
    "import glob"
   ]
  },
  {
   "cell_type": "code",
   "execution_count": 540,
   "metadata": {},
   "outputs": [],
   "source": [
    "import re\n",
    "reg = re.compile('.*/sub-(?P<subject>.+)/ses-(?P<session>.+)/func/sub-(.+)_ses-.+_hemi-(?P<hemi>lh|rh)_energies\\.pkl')"
   ]
  },
  {
   "cell_type": "code",
   "execution_count": 541,
   "metadata": {},
   "outputs": [],
   "source": [
    "fns = glob.glob('/data/odc/derivatives/zmap_spatfreq/sub-*/ses-*/func/sub-*_ses-*_hemi-*_energies.pkl')"
   ]
  },
  {
   "cell_type": "code",
   "execution_count": 542,
   "metadata": {},
   "outputs": [],
   "source": [
    "def get_vertex_mask(subject, hemi='lh', roi='V1'):\n",
    "    \n",
    "    \n",
    "    if hemi == 'lh':\n",
    "        mask = cortex.utils.get_roi_verts('odc.{}'.format(subject), roi=roi+'l')[roi+hemi[:1]]\n",
    "    elif hemi == 'rh':\n",
    "        left_pts, _ = cortex.db.get_surf('odc.{}'.format(subject), hemisphere='left', type='fiducial')\n",
    "        mask = cortex.utils.get_roi_verts('odc.{}'.format(subject), roi=roi+'r')[roi+hemi[:1]]\n",
    "        mask -= len(left_pts)\n",
    "        \n",
    "    return mask"
   ]
  },
  {
   "cell_type": "code",
   "execution_count": 543,
   "metadata": {},
   "outputs": [
    {
     "name": "stdout",
     "output_type": "stream",
     "text": [
      "3072/6597 V1 vertices have energy (bm, odc)\n",
      "2179/4628 V1 vertices have energy (bm, odc)\n",
      "5320/11046 V1 vertices have energy (de, odc1)\n",
      "3025/9886 V1 vertices have energy (de, odc1)\n",
      "3553/9503 V1 vertices have energy (eo, odc)\n",
      "4863/8879 V1 vertices have energy (eo, odc)\n",
      "3170/7012 V1 vertices have energy (ms, odc2)\n",
      "2880/6888 V1 vertices have energy (ms, odc2)\n",
      "5004/9560 V1 vertices have energy (ns, odc)\n",
      "2736/9847 V1 vertices have energy (ns, odc)\n",
      "2740/5771 V1 vertices have energy (tk, odc2)\n",
      "3347/6746 V1 vertices have energy (tk, odc2)\n",
      "2682/5771 V1 vertices have energy (tk, odc3)\n",
      "2992/6746 V1 vertices have energy (tk, odc3)\n",
      "4455/9629 V1 vertices have energy (tr, odc)\n",
      "5571/10898 V1 vertices have energy (tr, odc)\n"
     ]
    }
   ],
   "source": [
    "energies = []\n",
    "idx = []\n",
    "\n",
    "for fn in fns:\n",
    "    e = pd.read_pickle(fn)\n",
    "    e = e.loc[:,~e.isnull().any(0)]\n",
    "\n",
    "    meta = reg.match(fn).groupdict()    \n",
    "    mask = get_vertex_mask(meta['subject'], meta['hemi'])\n",
    "    \n",
    "    ix = e.columns.intersection(mask)\n",
    "    \n",
    "    e = e.loc[:, ix]    \n",
    "    print('{}/{} V1 vertices have energy ({}, {})'.format(len(ix), len(mask), meta['subject'], meta['session'], meta['hemi']))\n",
    "    \n",
    "    idx.append(meta)\n",
    "    \n",
    "    energies.append(e)\n",
    "    \n",
    "# energies = pd.concat(energies, axis=0)"
   ]
  },
  {
   "cell_type": "code",
   "execution_count": 544,
   "metadata": {},
   "outputs": [],
   "source": [
    "energies = pd.concat(energies, \n",
    "                     keys=[(d['subject'], d['session'], d['hemi']) for d in idx], \n",
    "                     names=['subject', 'session', 'hemi', 'vertex'],\n",
    "                     axis=1)"
   ]
  },
  {
   "cell_type": "code",
   "execution_count": 545,
   "metadata": {},
   "outputs": [],
   "source": [
    "energies_incl_outliers = energies.copy()"
   ]
  },
  {
   "cell_type": "code",
   "execution_count": 546,
   "metadata": {},
   "outputs": [],
   "source": [
    "energies = energies.drop([('bm', 'odc', 'lh'), ('ns')], axis=1)"
   ]
  },
  {
   "cell_type": "code",
   "execution_count": 547,
   "metadata": {},
   "outputs": [],
   "source": [
    "max_frequency = energies.groupby(['depth', 'frequency']).sum().groupby('depth', as_index=True).apply(lambda d: d.reset_index('depth', drop=True).idxmax())"
   ]
  },
  {
   "cell_type": "code",
   "execution_count": 548,
   "metadata": {},
   "outputs": [],
   "source": [
    "max_wl = 1. / max_frequency"
   ]
  },
  {
   "cell_type": "code",
   "execution_count": 549,
   "metadata": {},
   "outputs": [],
   "source": [
    "import pymc3 as pm"
   ]
  },
  {
   "cell_type": "code",
   "execution_count": 550,
   "metadata": {},
   "outputs": [],
   "source": [
    "mode_frequency_per_vertex = energies.groupby(['depth', 'frequency']).sum().groupby(['depth'], as_index=True).apply(lambda d: d.reset_index('depth', drop=True).idxmax(0))\n",
    "wl = mode_frequency_per_vertex.T.stack('depth').to_frame('main frequency').groupby(['subject', 'session', 'hemi', 'depth']).median()\n",
    "wl['wavelength'] = 1./wl['main frequency']"
   ]
  },
  {
   "cell_type": "code",
   "execution_count": 551,
   "metadata": {},
   "outputs": [
    {
     "data": {
      "text/html": [
       "<div>\n",
       "<style scoped>\n",
       "    .dataframe tbody tr th:only-of-type {\n",
       "        vertical-align: middle;\n",
       "    }\n",
       "\n",
       "    .dataframe tbody tr th {\n",
       "        vertical-align: top;\n",
       "    }\n",
       "\n",
       "    .dataframe thead th {\n",
       "        text-align: right;\n",
       "    }\n",
       "</style>\n",
       "<table border=\"1\" class=\"dataframe\">\n",
       "  <thead>\n",
       "    <tr style=\"text-align: right;\">\n",
       "      <th></th>\n",
       "      <th></th>\n",
       "      <th></th>\n",
       "      <th></th>\n",
       "      <th>main frequency</th>\n",
       "      <th>wavelength</th>\n",
       "    </tr>\n",
       "    <tr>\n",
       "      <th>subject</th>\n",
       "      <th>session</th>\n",
       "      <th>hemi</th>\n",
       "      <th>depth</th>\n",
       "      <th></th>\n",
       "      <th></th>\n",
       "    </tr>\n",
       "  </thead>\n",
       "  <tbody>\n",
       "    <tr>\n",
       "      <th rowspan=\"6\" valign=\"top\">de</th>\n",
       "      <th rowspan=\"6\" valign=\"top\">odc1</th>\n",
       "      <th rowspan=\"6\" valign=\"top\">lh</th>\n",
       "      <th>0.143</th>\n",
       "      <td>0.355648</td>\n",
       "      <td>2.811769</td>\n",
       "    </tr>\n",
       "    <tr>\n",
       "      <th>0.286</th>\n",
       "      <td>0.355648</td>\n",
       "      <td>2.811769</td>\n",
       "    </tr>\n",
       "    <tr>\n",
       "      <th>0.429</th>\n",
       "      <td>0.355648</td>\n",
       "      <td>2.811769</td>\n",
       "    </tr>\n",
       "    <tr>\n",
       "      <th>0.571</th>\n",
       "      <td>0.355648</td>\n",
       "      <td>2.811769</td>\n",
       "    </tr>\n",
       "    <tr>\n",
       "      <th>0.714</th>\n",
       "      <td>0.372759</td>\n",
       "      <td>2.682696</td>\n",
       "    </tr>\n",
       "    <tr>\n",
       "      <th>0.857</th>\n",
       "      <td>0.372759</td>\n",
       "      <td>2.682696</td>\n",
       "    </tr>\n",
       "    <tr>\n",
       "      <th rowspan=\"6\" valign=\"top\">eo</th>\n",
       "      <th rowspan=\"6\" valign=\"top\">odc</th>\n",
       "      <th rowspan=\"6\" valign=\"top\">lh</th>\n",
       "      <th>0.143</th>\n",
       "      <td>0.339322</td>\n",
       "      <td>2.947052</td>\n",
       "    </tr>\n",
       "    <tr>\n",
       "      <th>0.286</th>\n",
       "      <td>0.323746</td>\n",
       "      <td>3.088844</td>\n",
       "    </tr>\n",
       "    <tr>\n",
       "      <th>0.429</th>\n",
       "      <td>0.308884</td>\n",
       "      <td>3.237458</td>\n",
       "    </tr>\n",
       "    <tr>\n",
       "      <th>0.571</th>\n",
       "      <td>0.323746</td>\n",
       "      <td>3.088844</td>\n",
       "    </tr>\n",
       "    <tr>\n",
       "      <th>0.714</th>\n",
       "      <td>0.308884</td>\n",
       "      <td>3.237458</td>\n",
       "    </tr>\n",
       "    <tr>\n",
       "      <th>0.857</th>\n",
       "      <td>0.339322</td>\n",
       "      <td>2.947052</td>\n",
       "    </tr>\n",
       "    <tr>\n",
       "      <th rowspan=\"6\" valign=\"top\">ms</th>\n",
       "      <th rowspan=\"6\" valign=\"top\">odc2</th>\n",
       "      <th rowspan=\"6\" valign=\"top\">lh</th>\n",
       "      <th>0.143</th>\n",
       "      <td>0.390694</td>\n",
       "      <td>2.559548</td>\n",
       "    </tr>\n",
       "    <tr>\n",
       "      <th>0.286</th>\n",
       "      <td>0.409492</td>\n",
       "      <td>2.442053</td>\n",
       "    </tr>\n",
       "    <tr>\n",
       "      <th>0.429</th>\n",
       "      <td>0.429193</td>\n",
       "      <td>2.329952</td>\n",
       "    </tr>\n",
       "    <tr>\n",
       "      <th>0.571</th>\n",
       "      <td>0.409492</td>\n",
       "      <td>2.442053</td>\n",
       "    </tr>\n",
       "    <tr>\n",
       "      <th>0.714</th>\n",
       "      <td>0.390694</td>\n",
       "      <td>2.559548</td>\n",
       "    </tr>\n",
       "    <tr>\n",
       "      <th>0.857</th>\n",
       "      <td>0.372759</td>\n",
       "      <td>2.682696</td>\n",
       "    </tr>\n",
       "    <tr>\n",
       "      <th rowspan=\"12\" valign=\"top\">tk</th>\n",
       "      <th rowspan=\"6\" valign=\"top\">odc2</th>\n",
       "      <th rowspan=\"6\" valign=\"top\">lh</th>\n",
       "      <th>0.143</th>\n",
       "      <td>0.409492</td>\n",
       "      <td>2.442053</td>\n",
       "    </tr>\n",
       "    <tr>\n",
       "      <th>0.286</th>\n",
       "      <td>0.390694</td>\n",
       "      <td>2.559548</td>\n",
       "    </tr>\n",
       "    <tr>\n",
       "      <th>0.429</th>\n",
       "      <td>0.409492</td>\n",
       "      <td>2.442053</td>\n",
       "    </tr>\n",
       "    <tr>\n",
       "      <th>0.571</th>\n",
       "      <td>0.372759</td>\n",
       "      <td>2.682696</td>\n",
       "    </tr>\n",
       "    <tr>\n",
       "      <th>0.714</th>\n",
       "      <td>0.355648</td>\n",
       "      <td>2.811769</td>\n",
       "    </tr>\n",
       "    <tr>\n",
       "      <th>0.857</th>\n",
       "      <td>0.308884</td>\n",
       "      <td>3.237458</td>\n",
       "    </tr>\n",
       "    <tr>\n",
       "      <th rowspan=\"6\" valign=\"top\">odc3</th>\n",
       "      <th rowspan=\"6\" valign=\"top\">lh</th>\n",
       "      <th>0.143</th>\n",
       "      <td>0.390694</td>\n",
       "      <td>2.559548</td>\n",
       "    </tr>\n",
       "    <tr>\n",
       "      <th>0.286</th>\n",
       "      <td>0.409492</td>\n",
       "      <td>2.442053</td>\n",
       "    </tr>\n",
       "    <tr>\n",
       "      <th>0.429</th>\n",
       "      <td>0.390694</td>\n",
       "      <td>2.559548</td>\n",
       "    </tr>\n",
       "    <tr>\n",
       "      <th>0.571</th>\n",
       "      <td>0.409492</td>\n",
       "      <td>2.442053</td>\n",
       "    </tr>\n",
       "    <tr>\n",
       "      <th>0.714</th>\n",
       "      <td>0.409492</td>\n",
       "      <td>2.442053</td>\n",
       "    </tr>\n",
       "    <tr>\n",
       "      <th>0.857</th>\n",
       "      <td>0.429193</td>\n",
       "      <td>2.329952</td>\n",
       "    </tr>\n",
       "    <tr>\n",
       "      <th rowspan=\"6\" valign=\"top\">tr</th>\n",
       "      <th rowspan=\"6\" valign=\"top\">odc</th>\n",
       "      <th rowspan=\"6\" valign=\"top\">lh</th>\n",
       "      <th>0.143</th>\n",
       "      <td>0.355648</td>\n",
       "      <td>2.811769</td>\n",
       "    </tr>\n",
       "    <tr>\n",
       "      <th>0.286</th>\n",
       "      <td>0.372759</td>\n",
       "      <td>2.682696</td>\n",
       "    </tr>\n",
       "    <tr>\n",
       "      <th>0.429</th>\n",
       "      <td>0.372759</td>\n",
       "      <td>2.682696</td>\n",
       "    </tr>\n",
       "    <tr>\n",
       "      <th>0.571</th>\n",
       "      <td>0.372759</td>\n",
       "      <td>2.682696</td>\n",
       "    </tr>\n",
       "    <tr>\n",
       "      <th>0.714</th>\n",
       "      <td>0.372759</td>\n",
       "      <td>2.682696</td>\n",
       "    </tr>\n",
       "    <tr>\n",
       "      <th>0.857</th>\n",
       "      <td>0.390694</td>\n",
       "      <td>2.559548</td>\n",
       "    </tr>\n",
       "  </tbody>\n",
       "</table>\n",
       "</div>"
      ],
      "text/plain": [
       "                            main frequency  wavelength\n",
       "subject session hemi depth                            \n",
       "de      odc1    lh   0.143        0.355648    2.811769\n",
       "                     0.286        0.355648    2.811769\n",
       "                     0.429        0.355648    2.811769\n",
       "                     0.571        0.355648    2.811769\n",
       "                     0.714        0.372759    2.682696\n",
       "                     0.857        0.372759    2.682696\n",
       "eo      odc     lh   0.143        0.339322    2.947052\n",
       "                     0.286        0.323746    3.088844\n",
       "                     0.429        0.308884    3.237458\n",
       "                     0.571        0.323746    3.088844\n",
       "                     0.714        0.308884    3.237458\n",
       "                     0.857        0.339322    2.947052\n",
       "ms      odc2    lh   0.143        0.390694    2.559548\n",
       "                     0.286        0.409492    2.442053\n",
       "                     0.429        0.429193    2.329952\n",
       "                     0.571        0.409492    2.442053\n",
       "                     0.714        0.390694    2.559548\n",
       "                     0.857        0.372759    2.682696\n",
       "tk      odc2    lh   0.143        0.409492    2.442053\n",
       "                     0.286        0.390694    2.559548\n",
       "                     0.429        0.409492    2.442053\n",
       "                     0.571        0.372759    2.682696\n",
       "                     0.714        0.355648    2.811769\n",
       "                     0.857        0.308884    3.237458\n",
       "        odc3    lh   0.143        0.390694    2.559548\n",
       "                     0.286        0.409492    2.442053\n",
       "                     0.429        0.390694    2.559548\n",
       "                     0.571        0.409492    2.442053\n",
       "                     0.714        0.409492    2.442053\n",
       "                     0.857        0.429193    2.329952\n",
       "tr      odc     lh   0.143        0.355648    2.811769\n",
       "                     0.286        0.372759    2.682696\n",
       "                     0.429        0.372759    2.682696\n",
       "                     0.571        0.372759    2.682696\n",
       "                     0.714        0.372759    2.682696\n",
       "                     0.857        0.390694    2.559548"
      ]
     },
     "execution_count": 551,
     "metadata": {},
     "output_type": "execute_result"
    }
   ],
   "source": [
    "wl.loc[(slice(None), slice(None), 'lh', slice(None)), :]"
   ]
  },
  {
   "cell_type": "code",
   "execution_count": 552,
   "metadata": {},
   "outputs": [],
   "source": [
    "unique_subjects = power.subject.unique().tolist()\n",
    "power['Subject'] = power['subject'].map(lambda d: 'Subject {}'.format(unique_subjects.index(d) + 1))\n",
    "power['Power'] = power['power']\n",
    "\n",
    "unique_depths = power.depth.unique().tolist()\n",
    "power['Layer'] = power.depth.map(lambda d: 6 - unique_depths.index(d))"
   ]
  },
  {
   "cell_type": "code",
   "execution_count": 553,
   "metadata": {},
   "outputs": [],
   "source": [
    "mean_wl_energie_across_orientations = energies.groupby(['depth', 'frequency']).mean()"
   ]
  },
  {
   "cell_type": "code",
   "execution_count": 554,
   "metadata": {},
   "outputs": [],
   "source": [
    "power = mean_wl_energie_across_orientations.T.groupby(['subject', 'session', 'hemi']).mean().stack(['depth', 'frequency'])\n",
    "power = power.to_frame('power').reset_index()\n",
    "power['wavelength'] = 1./power['frequency']"
   ]
  },
  {
   "cell_type": "code",
   "execution_count": 555,
   "metadata": {},
   "outputs": [],
   "source": [
    "unique_subjects = power.subject.unique().tolist()\n",
    "power['Subject'] = power['subject'].map(lambda d: 'Subject {}'.format(unique_subjects.index(d) + 1))\n",
    "power['Power'] = power['power']\n",
    "\n",
    "unique_depths = power.depth.unique().tolist()\n",
    "power['Layer'] = power.depth.map(lambda d: 6 - unique_depths.index(d))"
   ]
  },
  {
   "cell_type": "code",
   "execution_count": 556,
   "metadata": {},
   "outputs": [],
   "source": [
    "def fit_linear_quadratic_model(df, subj_label='subject', x='depth', y='power'):\n",
    "\n",
    "    n_subj = len(df[subj_label].unique())\n",
    "    subject_idx = df[subj_label].map(lambda x: df[subj_label].unique().tolist().index(x))\n",
    "    x = df[x]\n",
    "    y = df[y]    \n",
    "    \n",
    "    with pm.Model() as model1:\n",
    "\n",
    "            # define priors:\n",
    "        h_b0 = pm.Normal('h_b0', mu=0, sd=1)\n",
    "        sigma_h_b0 = pm.HalfCauchy('sigma_h_b0', beta=5.)\n",
    "        h_b1 = pm.Normal('h_b1', mu=0, sd=1)\n",
    "        sigma_h_b1 = pm.HalfCauchy('sigma_h_b1', beta=5.)\n",
    "        \n",
    "        b0_ = pm.Normal('b0_', mu=0, sd=1, shape=n_subj) # intercept\n",
    "        b1_ = pm.Normal('b1_', mu=0, sd=1, shape=n_subj) # 1st order coefficient for each subject (slope)\n",
    "        \n",
    "        b0 = pm.Deterministic('b0', h_b0 + sigma_h_b0 * b0_[subject_idx])\n",
    "        b1 = pm.Deterministic('b1', h_b1 + sigma_h_b1 * b1_[subject_idx])\n",
    "\n",
    "        ## define Linear model\n",
    "        yest = pm.Deterministic(name='yest', var=b0 + (b1 * x))\n",
    "\n",
    "        ## define Normal likelihood with HalfNormal noise\n",
    "        sigma_y = pm.HalfNormal('sigma_y', sd=1)\n",
    "        likelihood = pm.Normal('likelihood', mu=yest, sd=sigma_y, observed=y)\n",
    "\n",
    "        trace1 = pm.sample(2000, tune=1000)\n",
    "    \n",
    "    with pm.Model() as model2:\n",
    "\n",
    "        # define priors:\n",
    "        h_b0 = pm.Normal('h_b0', mu=0, sd=1)        \n",
    "        sigma_h_b0 = pm.HalfCauchy('sigma_h_b0', beta=5)\n",
    "        h_b1 = pm.Normal('h_b1', mu=0, sd=1)\n",
    "        sigma_h_b1 = pm.HalfCauchy('sigma_h_b1', beta=5)\n",
    "        h_b2 = pm.Normal('h_b2', mu=0, sd=1)\n",
    "        sigma_h_b2 = pm.HalfCauchy('sigma_h_b2', beta=5)\n",
    "#         b0 = pm.Normal('b0', mu=h_b0, sd=sigma_h_b0, shape=n_subj) # intercept\n",
    "#         b1 = pm.Normal('b1', mu=h_b1, sd=sigma_h_b1, shape=n_subj) # 1st order coefficient for each subject (slope)\n",
    "#         b2 = pm.Normal('b2', mu=h_b2, sd=sigma_h_b2, shape=n_subj) # 2nd order coefficient for each subject\n",
    "\n",
    "        b0_ = pm.Normal('b0_', mu=0, sd=1, shape=n_subj) # intercept\n",
    "        b1_ = pm.Normal('b1_', mu=0, sd=1, shape=n_subj) # 1st order coefficient for each subject (slope)\n",
    "        b2_ = pm.Normal('b2_', mu=0, sd=1, shape=n_subj) # 2nd order coefficient for each subject\n",
    "        \n",
    "        b0 = pm.Deterministic('b0', h_b0 + sigma_h_b0 * b0_[subject_idx])\n",
    "        b1 = pm.Deterministic('b1', h_b1 + sigma_h_b1 * b1_[subject_idx])\n",
    "        b2 = pm.Deterministic('b2', h_b2 + sigma_h_b2 * b2_[subject_idx])\n",
    "        \n",
    "        print(b0.shape)\n",
    "        \n",
    " \n",
    "        ## define Linear model\n",
    "        yest = pm.Deterministic(name='yest', var=b0 + (b1 * x) + (b2 * x**2))\n",
    "        \n",
    "\n",
    "        ## define Normal likelihood with HalfNormal noise\n",
    "        sigma_y = pm.HalfNormal('sigma_y', sd=1)\n",
    "        likelihood = pm.Normal('likelihood', mu=yest, sd=sigma_y, observed=y)\n",
    "\n",
    "        trace2 = pm.sample(2000, tune=1000)\n",
    "\n",
    "    return model1, trace1, model2, trace2"
   ]
  },
  {
   "cell_type": "markdown",
   "metadata": {},
   "source": [
    "# Both hemispheres"
   ]
  },
  {
   "cell_type": "code",
   "execution_count": 557,
   "metadata": {},
   "outputs": [
    {
     "data": {
      "text/html": [
       "<div>\n",
       "<style scoped>\n",
       "    .dataframe tbody tr th:only-of-type {\n",
       "        vertical-align: middle;\n",
       "    }\n",
       "\n",
       "    .dataframe tbody tr th {\n",
       "        vertical-align: top;\n",
       "    }\n",
       "\n",
       "    .dataframe thead th {\n",
       "        text-align: right;\n",
       "    }\n",
       "</style>\n",
       "<table border=\"1\" class=\"dataframe\">\n",
       "  <thead>\n",
       "    <tr style=\"text-align: right;\">\n",
       "      <th></th>\n",
       "      <th>subject</th>\n",
       "      <th>session</th>\n",
       "      <th>hemi</th>\n",
       "      <th>depth</th>\n",
       "      <th>frequency</th>\n",
       "      <th>power</th>\n",
       "      <th>wavelength</th>\n",
       "      <th>Subject</th>\n",
       "      <th>Power</th>\n",
       "      <th>Layer</th>\n",
       "    </tr>\n",
       "  </thead>\n",
       "  <tbody>\n",
       "    <tr>\n",
       "      <th>0</th>\n",
       "      <td>bm</td>\n",
       "      <td>odc</td>\n",
       "      <td>rh</td>\n",
       "      <td>0.143</td>\n",
       "      <td>0.100000</td>\n",
       "      <td>0.115038</td>\n",
       "      <td>10.000000</td>\n",
       "      <td>Subject 1</td>\n",
       "      <td>0.115038</td>\n",
       "      <td>6</td>\n",
       "    </tr>\n",
       "    <tr>\n",
       "      <th>1</th>\n",
       "      <td>bm</td>\n",
       "      <td>odc</td>\n",
       "      <td>rh</td>\n",
       "      <td>0.143</td>\n",
       "      <td>0.104811</td>\n",
       "      <td>0.118465</td>\n",
       "      <td>9.540955</td>\n",
       "      <td>Subject 1</td>\n",
       "      <td>0.118465</td>\n",
       "      <td>6</td>\n",
       "    </tr>\n",
       "    <tr>\n",
       "      <th>2</th>\n",
       "      <td>bm</td>\n",
       "      <td>odc</td>\n",
       "      <td>rh</td>\n",
       "      <td>0.143</td>\n",
       "      <td>0.109854</td>\n",
       "      <td>0.121990</td>\n",
       "      <td>9.102982</td>\n",
       "      <td>Subject 1</td>\n",
       "      <td>0.121990</td>\n",
       "      <td>6</td>\n",
       "    </tr>\n",
       "    <tr>\n",
       "      <th>3</th>\n",
       "      <td>bm</td>\n",
       "      <td>odc</td>\n",
       "      <td>rh</td>\n",
       "      <td>0.143</td>\n",
       "      <td>0.115140</td>\n",
       "      <td>0.125378</td>\n",
       "      <td>8.685114</td>\n",
       "      <td>Subject 1</td>\n",
       "      <td>0.125378</td>\n",
       "      <td>6</td>\n",
       "    </tr>\n",
       "    <tr>\n",
       "      <th>4</th>\n",
       "      <td>bm</td>\n",
       "      <td>odc</td>\n",
       "      <td>rh</td>\n",
       "      <td>0.143</td>\n",
       "      <td>0.120679</td>\n",
       "      <td>0.128328</td>\n",
       "      <td>8.286428</td>\n",
       "      <td>Subject 1</td>\n",
       "      <td>0.128328</td>\n",
       "      <td>6</td>\n",
       "    </tr>\n",
       "  </tbody>\n",
       "</table>\n",
       "</div>"
      ],
      "text/plain": [
       "  subject session hemi  depth  frequency     power  wavelength    Subject  \\\n",
       "0      bm     odc   rh  0.143   0.100000  0.115038   10.000000  Subject 1   \n",
       "1      bm     odc   rh  0.143   0.104811  0.118465    9.540955  Subject 1   \n",
       "2      bm     odc   rh  0.143   0.109854  0.121990    9.102982  Subject 1   \n",
       "3      bm     odc   rh  0.143   0.115140  0.125378    8.685114  Subject 1   \n",
       "4      bm     odc   rh  0.143   0.120679  0.128328    8.286428  Subject 1   \n",
       "\n",
       "      Power  Layer  \n",
       "0  0.115038      6  \n",
       "1  0.118465      6  \n",
       "2  0.121990      6  \n",
       "3  0.125378      6  \n",
       "4  0.128328      6  "
      ]
     },
     "execution_count": 557,
     "metadata": {},
     "output_type": "execute_result"
    }
   ],
   "source": [
    "power.head()"
   ]
  },
  {
   "cell_type": "code",
   "execution_count": 558,
   "metadata": {},
   "outputs": [],
   "source": [
    "power['subject_session'] = power.apply(lambda row: '{subject}.{session}'.format(**row.to_dict()), 1)"
   ]
  },
  {
   "cell_type": "code",
   "execution_count": 559,
   "metadata": {},
   "outputs": [
    {
     "name": "stderr",
     "output_type": "stream",
     "text": [
      "/Users/gdehol/miniconda3/lib/python3.7/site-packages/theano/tensor/subtensor.py:2197: FutureWarning: Using a non-tuple sequence for multidimensional indexing is deprecated; use `arr[tuple(seq)]` instead of `arr[seq]`. In the future this will be interpreted as an array index, `arr[np.array(seq)]`, which will result either in an error or a different result.\n",
      "  rval = inputs[0].__getitem__(inputs[1:])\n",
      "Auto-assigning NUTS sampler...\n",
      "Initializing NUTS using jitter+adapt_diag...\n",
      "Multiprocess sampling (4 chains in 4 jobs)\n",
      "NUTS: [sigma_y, b1_, b0_, sigma_h_b1, h_b1, sigma_h_b0, h_b0]\n",
      "Sampling 4 chains: 100%|██████████| 12000/12000 [00:50<00:00, 238.24draws/s]\n",
      "There were 20 divergences after tuning. Increase `target_accept` or reparameterize.\n",
      "There were 10 divergences after tuning. Increase `target_accept` or reparameterize.\n",
      "There were 9 divergences after tuning. Increase `target_accept` or reparameterize.\n",
      "There were 32 divergences after tuning. Increase `target_accept` or reparameterize.\n",
      "The number of effective samples is smaller than 25% for some parameters.\n",
      "Auto-assigning NUTS sampler...\n",
      "Initializing NUTS using jitter+adapt_diag...\n"
     ]
    },
    {
     "name": "stdout",
     "output_type": "stream",
     "text": [
      "Shape.0\n"
     ]
    },
    {
     "name": "stderr",
     "output_type": "stream",
     "text": [
      "Multiprocess sampling (4 chains in 4 jobs)\n",
      "NUTS: [sigma_y, b2_, b1_, b0_, sigma_h_b2, h_b2, sigma_h_b1, h_b1, sigma_h_b0, h_b0]\n",
      "Sampling 4 chains: 100%|██████████| 12000/12000 [03:39<00:00, 15.66draws/s]\n",
      "There were 140 divergences after tuning. Increase `target_accept` or reparameterize.\n",
      "There were 43 divergences after tuning. Increase `target_accept` or reparameterize.\n",
      "There were 84 divergences after tuning. Increase `target_accept` or reparameterize.\n",
      "There were 15 divergences after tuning. Increase `target_accept` or reparameterize.\n",
      "The number of effective samples is smaller than 25% for some parameters.\n"
     ]
    }
   ],
   "source": [
    "tmp = power.groupby(['subject_session', 'depth'], as_index=False).mean()\n",
    "model1, trace1, model2, trace2 = fit_linear_quadratic_model(tmp, subj_label='subject_session')"
   ]
  },
  {
   "cell_type": "code",
   "execution_count": 560,
   "metadata": {},
   "outputs": [],
   "source": [
    "import matplotlib.pyplot as plt"
   ]
  },
  {
   "cell_type": "code",
   "execution_count": 561,
   "metadata": {},
   "outputs": [],
   "source": [
    "import numpy as np"
   ]
  },
  {
   "cell_type": "code",
   "execution_count": 562,
   "metadata": {},
   "outputs": [
    {
     "data": {
      "text/plain": [
       "<matplotlib.axes._subplots.AxesSubplot at 0xa559659e8>"
      ]
     },
     "execution_count": 562,
     "metadata": {},
     "output_type": "execute_result"
    },
    {
     "data": {
      "image/png": "[encoded data removed]",
      "text/plain": [
       "<Figure size 432x288 with 1 Axes>"
      ]
     },
     "metadata": {
      "needs_background": "light"
     },
     "output_type": "display_data"
    }
   ],
   "source": [
    "h_b0 = trace2.get_values('h_b0')[:, np.newaxis]\n",
    "h_b1 = trace2.get_values('h_b1')[:, np.newaxis]\n",
    "h_b2 = trace2.get_values('h_b2')[:, np.newaxis]\n",
    "\n",
    "depth = np.linspace(0, 1, 100)[np.newaxis, :]\n",
    "pred_power = h_b0 + h_b1 * depth + h_b2 * depth**2\n",
    "\n",
    "lb, ub = pm.stats.hpd(pred_power).T\n",
    "\n",
    "plt.plot(depth.ravel(), pred_power.mean(0))\n",
    "plt.fill_between(depth.ravel(), lb, ub, alpha=.25)\n",
    "tmp.groupby('depth').mean()['power'].plot(c='k', ls='--', lw=2)"
   ]
  },
  {
   "cell_type": "code",
   "execution_count": 563,
   "metadata": {},
   "outputs": [
    {
     "name": "stderr",
     "output_type": "stream",
     "text": [
      "/Users/gdehol/miniconda3/lib/python3.7/site-packages/pymc3/stats.py:168: FutureWarning: arrays to stack must be passed as a \"sequence\" type such as list or tuple. Support for non-sequence iterables such as generators is deprecated as of NumPy 1.16 and will raise an error in the future.\n",
      "  return np.stack(logp)\n",
      "/Users/gdehol/miniconda3/lib/python3.7/site-packages/theano/tensor/subtensor.py:2197: FutureWarning: Using a non-tuple sequence for multidimensional indexing is deprecated; use `arr[tuple(seq)]` instead of `arr[seq]`. In the future this will be interpreted as an array index, `arr[np.array(seq)]`, which will result either in an error or a different result.\n",
      "  rval = inputs[0].__getitem__(inputs[1:])\n",
      "/Users/gdehol/miniconda3/lib/python3.7/site-packages/pymc3/stats.py:219: UserWarning: For one or more samples the posterior variance of the\n",
      "        log predictive densities exceeds 0.4. This could be indication of\n",
      "        WAIC starting to fail see http://arxiv.org/abs/1507.04544 for details\n",
      "        \n",
      "  \"\"\")\n"
     ]
    },
    {
     "data": {
      "text/plain": [
       "(WAIC_r(WAIC=-324.0535434614247, WAIC_se=9.327799255254304, p_WAIC=13.598951283322496, var_warn=1),\n",
       " WAIC_r(WAIC=-399.4341563066902, WAIC_se=6.220301522275269, p_WAIC=15.848314165367727, var_warn=1))"
      ]
     },
     "execution_count": 563,
     "metadata": {},
     "output_type": "execute_result"
    }
   ],
   "source": [
    "pm.waic(trace1, model1), pm.waic(trace2, model2)"
   ]
  },
  {
   "cell_type": "code",
   "execution_count": 564,
   "metadata": {},
   "outputs": [
    {
     "data": {
      "text/html": [
       "<div>\n",
       "<style scoped>\n",
       "    .dataframe tbody tr th:only-of-type {\n",
       "        vertical-align: middle;\n",
       "    }\n",
       "\n",
       "    .dataframe tbody tr th {\n",
       "        vertical-align: top;\n",
       "    }\n",
       "\n",
       "    .dataframe thead th {\n",
       "        text-align: right;\n",
       "    }\n",
       "</style>\n",
       "<table border=\"1\" class=\"dataframe\">\n",
       "  <thead>\n",
       "    <tr style=\"text-align: right;\">\n",
       "      <th></th>\n",
       "      <th>WAIC</th>\n",
       "      <th>pWAIC</th>\n",
       "      <th>dWAIC</th>\n",
       "      <th>weight</th>\n",
       "      <th>SE</th>\n",
       "      <th>dSE</th>\n",
       "      <th>var_warn</th>\n",
       "    </tr>\n",
       "  </thead>\n",
       "  <tbody>\n",
       "    <tr>\n",
       "      <th>quadratic</th>\n",
       "      <td>-399.43</td>\n",
       "      <td>15.85</td>\n",
       "      <td>0</td>\n",
       "      <td>1</td>\n",
       "      <td>6.22</td>\n",
       "      <td>0</td>\n",
       "      <td>1</td>\n",
       "    </tr>\n",
       "    <tr>\n",
       "      <th>linear</th>\n",
       "      <td>-324.05</td>\n",
       "      <td>13.6</td>\n",
       "      <td>75.38</td>\n",
       "      <td>0</td>\n",
       "      <td>9.33</td>\n",
       "      <td>9.18</td>\n",
       "      <td>1</td>\n",
       "    </tr>\n",
       "  </tbody>\n",
       "</table>\n",
       "</div>"
      ],
      "text/plain": [
       "             WAIC  pWAIC  dWAIC weight    SE   dSE var_warn\n",
       "quadratic -399.43  15.85      0      1  6.22     0        1\n",
       "linear    -324.05   13.6  75.38      0  9.33  9.18        1"
      ]
     },
     "execution_count": 564,
     "metadata": {},
     "output_type": "execute_result"
    }
   ],
   "source": [
    "model1.name = 'linear'\n",
    "model2.name = 'quadratic'\n",
    "df_comp_WAIC = pm.compare({model1: trace1, model2: trace2})\n",
    "df_comp_WAIC"
   ]
  },
  {
   "cell_type": "code",
   "execution_count": 565,
   "metadata": {},
   "outputs": [
    {
     "data": {
      "text/plain": [
       "array([[0.04681329, 0.75173652]])"
      ]
     },
     "execution_count": 565,
     "metadata": {},
     "output_type": "execute_result"
    },
    {
     "data": {
      "image/png": "[encoded data removed]",
      "text/plain": [
       "<Figure size 432x288 with 1 Axes>"
      ]
     },
     "metadata": {
      "needs_background": "light"
     },
     "output_type": "display_data"
    }
   ],
   "source": [
    "a = h_b2\n",
    "b = h_b1\n",
    "x_coord = -b / (2*a)\n",
    "\n",
    "\n",
    "\n",
    "sns.distplot(x_coord[np.abs(x_coord) < 1])\n",
    "pm.stats.hpd(x_coord, alpha=0.05)"
   ]
  },
  {
   "cell_type": "code",
   "execution_count": 566,
   "metadata": {},
   "outputs": [
    {
     "data": {
      "text/plain": [
       "0.3951678617798558"
      ]
     },
     "execution_count": 566,
     "metadata": {},
     "output_type": "execute_result"
    }
   ],
   "source": [
    "x_coord.mean()"
   ]
  },
  {
   "cell_type": "code",
   "execution_count": 567,
   "metadata": {},
   "outputs": [
    {
     "name": "stderr",
     "output_type": "stream",
     "text": [
      "/Users/gdehol/miniconda3/lib/python3.7/site-packages/pymc3/tuning/starting.py:61: UserWarning: find_MAP should not be used to initialize the NUTS sampler, simply call pymc3.sample() and it will automatically initialize NUTS in a better way.\n",
      "  warnings.warn('find_MAP should not be used to initialize the NUTS sampler, simply call pymc3.sample() and it will automatically initialize NUTS in a better way.')\n",
      "  0%|          | 0/5000 [00:00<?, ?it/s]/Users/gdehol/miniconda3/lib/python3.7/site-packages/theano/tensor/subtensor.py:2197: FutureWarning: Using a non-tuple sequence for multidimensional indexing is deprecated; use `arr[tuple(seq)]` instead of `arr[seq]`. In the future this will be interpreted as an array index, `arr[np.array(seq)]`, which will result either in an error or a different result.\n",
      "  rval = inputs[0].__getitem__(inputs[1:])\n",
      "logp = 198.91, ||grad|| = 4.0606: 100%|██████████| 102/102 [00:00<00:00, 2333.02it/s]     \n"
     ]
    }
   ],
   "source": [
    "with model2:\n",
    "    map = pm.find_MAP()"
   ]
  },
  {
   "cell_type": "code",
   "execution_count": 568,
   "metadata": {},
   "outputs": [
    {
     "data": {
      "text/plain": [
       "0.3936837251027334"
      ]
     },
     "execution_count": 568,
     "metadata": {},
     "output_type": "execute_result"
    }
   ],
   "source": [
    "-map['h_b1'] / (2*map['h_b2'])"
   ]
  },
  {
   "cell_type": "markdown",
   "metadata": {},
   "source": [
    "# Decoding"
   ]
  },
  {
   "cell_type": "code",
   "execution_count": 569,
   "metadata": {},
   "outputs": [
    {
     "name": "stderr",
     "output_type": "stream",
     "text": [
      "/Users/gdehol/miniconda3/lib/python3.7/site-packages/IPython/core/interactiveshell.py:2819: PerformanceWarning: indexing past lexsort depth may impact performance.\n",
      "  raw_cell, store_history, silent, shell_futures)\n"
     ]
    }
   ],
   "source": [
    "import glob\n",
    "fns = glob.glob('/data/odc/derivatives/encoding_model/sub-*/ses-*/func/sub-*_desc-V1**.pkl.gz')\n",
    "df = []\n",
    "\n",
    "for fn in fns:\n",
    "    df.append(pd.read_pickle(fn))\n",
    "    \n",
    "df = pd.concat(df)\n",
    "\n",
    "import numpy as np\n",
    "\n",
    "df.loc[(df['eye'] == 'left') & (df['bayes factor'] > 1), 'correct'] = 1\n",
    "df.loc[(df['eye'] == 'left') & (df['bayes factor'] < 1), 'correct'] = 0\n",
    "\n",
    "df.loc[(df['eye'] == 'right') & (df['bayes factor'] > 1), 'correct'] = 0\n",
    "df.loc[(df['eye'] == 'right') & (df['bayes factor'] < 1), 'correct'] = 1\n",
    "\n",
    "df['correct'] = df['correct'].astype(float)\n",
    "\n",
    "df['log(bayes factor)'] = np.log10(df['bayes factor'])\n",
    "df['q(log(bayes_factor))'] = pd.qcut(df['bayes factor'], 10)\n",
    "\n",
    "import seaborn as sns\n",
    "\n",
    "# fac = sns.FacetGrid(df.reset_index().groupby(['subject', 'session', 'n_vertices', 'task', 'roi', 'lambda'], as_index=False).mean(), row='roi', \n",
    "#                    aspect=1.5, hue='lambda', col='subject')\n",
    "# fac.map(sns.lineplot, 'n_vertices', 'correct')\n",
    "# fac.add_legend()\n",
    "# fac.set(xscale=\"log\")"
   ]
  },
  {
   "cell_type": "code",
   "execution_count": 570,
   "metadata": {},
   "outputs": [],
   "source": [
    "tmp = df.groupby(['roi', 'subject', 'session', 'depth'], as_index=False).mean()\n",
    "tmp['subject_session'] = tmp.apply(lambda row: '{subject}.{session}'.format(**row.to_dict()), 1)\n",
    "tmp = tmp.set_index('roi')\n",
    "tmp = tmp[tmp['depth'] != 'all']\n",
    "tmp['depth'] = tmp['depth'].astype(float)"
   ]
  },
  {
   "cell_type": "code",
   "execution_count": 571,
   "metadata": {},
   "outputs": [
    {
     "data": {
      "text/plain": [
       "<matplotlib.axes._subplots.AxesSubplot at 0xa54a519e8>"
      ]
     },
     "execution_count": 571,
     "metadata": {},
     "output_type": "execute_result"
    },
    {
     "data": {
      "image/png": "[encoded data removed]",
      "text/plain": [
       "<Figure size 432x288 with 1 Axes>"
      ]
     },
     "metadata": {
      "needs_background": "light"
     },
     "output_type": "display_data"
    }
   ],
   "source": [
    "sns.lineplot('depth', 'correct', 'roi', data=tmp.loc[['V1l', 'V1r']].reset_index())"
   ]
  },
  {
   "cell_type": "markdown",
   "metadata": {},
   "source": [
    "# Left V1"
   ]
  },
  {
   "cell_type": "code",
   "execution_count": 572,
   "metadata": {},
   "outputs": [
    {
     "name": "stderr",
     "output_type": "stream",
     "text": [
      "/Users/gdehol/miniconda3/lib/python3.7/site-packages/theano/tensor/subtensor.py:2197: FutureWarning: Using a non-tuple sequence for multidimensional indexing is deprecated; use `arr[tuple(seq)]` instead of `arr[seq]`. In the future this will be interpreted as an array index, `arr[np.array(seq)]`, which will result either in an error or a different result.\n",
      "  rval = inputs[0].__getitem__(inputs[1:])\n",
      "Auto-assigning NUTS sampler...\n",
      "Initializing NUTS using jitter+adapt_diag...\n",
      "Multiprocess sampling (4 chains in 4 jobs)\n",
      "NUTS: [sigma_y, b1_, b0_, sigma_h_b1, h_b1, sigma_h_b0, h_b0]\n",
      "Sampling 4 chains: 100%|██████████| 12000/12000 [01:18<00:00, 153.42draws/s]\n",
      "There were 19 divergences after tuning. Increase `target_accept` or reparameterize.\n",
      "There were 21 divergences after tuning. Increase `target_accept` or reparameterize.\n",
      "There were 37 divergences after tuning. Increase `target_accept` or reparameterize.\n",
      "There were 10 divergences after tuning. Increase `target_accept` or reparameterize.\n",
      "The number of effective samples is smaller than 25% for some parameters.\n",
      "Auto-assigning NUTS sampler...\n",
      "Initializing NUTS using jitter+adapt_diag...\n"
     ]
    },
    {
     "name": "stdout",
     "output_type": "stream",
     "text": [
      "Shape.0\n"
     ]
    },
    {
     "name": "stderr",
     "output_type": "stream",
     "text": [
      "Multiprocess sampling (4 chains in 4 jobs)\n",
      "NUTS: [sigma_y, b2_, b1_, b0_, sigma_h_b2, h_b2, sigma_h_b1, h_b1, sigma_h_b0, h_b0]\n",
      "Sampling 4 chains: 100%|██████████| 12000/12000 [05:25<00:00, 36.91draws/s]\n",
      "There were 40 divergences after tuning. Increase `target_accept` or reparameterize.\n",
      "There were 45 divergences after tuning. Increase `target_accept` or reparameterize.\n",
      "There were 44 divergences after tuning. Increase `target_accept` or reparameterize.\n",
      "There were 67 divergences after tuning. Increase `target_accept` or reparameterize.\n"
     ]
    }
   ],
   "source": [
    "model1, trace1, model2, trace2 = fit_linear_quadratic_model(tmp.loc['V1l'], subj_label='subject_session', x='depth', y='correct')"
   ]
  },
  {
   "cell_type": "code",
   "execution_count": 573,
   "metadata": {},
   "outputs": [
    {
     "data": {
      "text/plain": [
       "<matplotlib.axes._subplots.AxesSubplot at 0xa4a7aafd0>"
      ]
     },
     "execution_count": 573,
     "metadata": {},
     "output_type": "execute_result"
    },
    {
     "data": {
      "image/png": "[encoded data removed]",
      "text/plain": [
       "<Figure size 432x288 with 1 Axes>"
      ]
     },
     "metadata": {
      "needs_background": "light"
     },
     "output_type": "display_data"
    }
   ],
   "source": [
    "h_b0 = trace2.get_values('h_b0')[:, np.newaxis]\n",
    "h_b1 = trace2.get_values('h_b1')[:, np.newaxis]\n",
    "h_b2 = trace2.get_values('h_b2')[:, np.newaxis]\n",
    "\n",
    "depth = np.linspace(0, 1, 100)[np.newaxis, :]\n",
    "pred_correct = h_b0 + h_b1 * depth + h_b2 * depth**2\n",
    "\n",
    "lb, ub = pm.stats.hpd(pred_correct).T\n",
    "\n",
    "plt.plot(depth.ravel(), pred_correct.mean(0))\n",
    "plt.fill_between(depth.ravel(), lb, ub, alpha=.25)\n",
    "tmp.loc['V1l'].groupby('depth').mean()['correct'].plot(c='k', ls='--', lw=2)"
   ]
  },
  {
   "cell_type": "code",
   "execution_count": 574,
   "metadata": {},
   "outputs": [
    {
     "name": "stderr",
     "output_type": "stream",
     "text": [
      "/Users/gdehol/miniconda3/lib/python3.7/site-packages/pymc3/stats.py:168: FutureWarning: arrays to stack must be passed as a \"sequence\" type such as list or tuple. Support for non-sequence iterables such as generators is deprecated as of NumPy 1.16 and will raise an error in the future.\n",
      "  return np.stack(logp)\n",
      "/Users/gdehol/miniconda3/lib/python3.7/site-packages/theano/tensor/subtensor.py:2197: FutureWarning: Using a non-tuple sequence for multidimensional indexing is deprecated; use `arr[tuple(seq)]` instead of `arr[seq]`. In the future this will be interpreted as an array index, `arr[np.array(seq)]`, which will result either in an error or a different result.\n",
      "  rval = inputs[0].__getitem__(inputs[1:])\n",
      "/Users/gdehol/miniconda3/lib/python3.7/site-packages/pymc3/stats.py:219: UserWarning: For one or more samples the posterior variance of the\n",
      "        log predictive densities exceeds 0.4. This could be indication of\n",
      "        WAIC starting to fail see http://arxiv.org/abs/1507.04544 for details\n",
      "        \n",
      "  \"\"\")\n"
     ]
    },
    {
     "data": {
      "text/html": [
       "<div>\n",
       "<style scoped>\n",
       "    .dataframe tbody tr th:only-of-type {\n",
       "        vertical-align: middle;\n",
       "    }\n",
       "\n",
       "    .dataframe tbody tr th {\n",
       "        vertical-align: top;\n",
       "    }\n",
       "\n",
       "    .dataframe thead th {\n",
       "        text-align: right;\n",
       "    }\n",
       "</style>\n",
       "<table border=\"1\" class=\"dataframe\">\n",
       "  <thead>\n",
       "    <tr style=\"text-align: right;\">\n",
       "      <th></th>\n",
       "      <th>WAIC</th>\n",
       "      <th>pWAIC</th>\n",
       "      <th>dWAIC</th>\n",
       "      <th>weight</th>\n",
       "      <th>SE</th>\n",
       "      <th>dSE</th>\n",
       "      <th>var_warn</th>\n",
       "    </tr>\n",
       "  </thead>\n",
       "  <tbody>\n",
       "    <tr>\n",
       "      <th>quadratic</th>\n",
       "      <td>-321.4</td>\n",
       "      <td>17.93</td>\n",
       "      <td>0</td>\n",
       "      <td>1</td>\n",
       "      <td>10.03</td>\n",
       "      <td>0</td>\n",
       "      <td>1</td>\n",
       "    </tr>\n",
       "    <tr>\n",
       "      <th>linear</th>\n",
       "      <td>-257.54</td>\n",
       "      <td>15.6</td>\n",
       "      <td>63.86</td>\n",
       "      <td>0</td>\n",
       "      <td>12.93</td>\n",
       "      <td>14.36</td>\n",
       "      <td>1</td>\n",
       "    </tr>\n",
       "  </tbody>\n",
       "</table>\n",
       "</div>"
      ],
      "text/plain": [
       "             WAIC  pWAIC  dWAIC weight     SE    dSE var_warn\n",
       "quadratic  -321.4  17.93      0      1  10.03      0        1\n",
       "linear    -257.54   15.6  63.86      0  12.93  14.36        1"
      ]
     },
     "execution_count": 574,
     "metadata": {},
     "output_type": "execute_result"
    }
   ],
   "source": [
    "model1.name = 'linear'\n",
    "model2.name = 'quadratic'\n",
    "df_comp_WAIC = pm.compare({model1: trace1, model2: trace2})\n",
    "df_comp_WAIC"
   ]
  },
  {
   "cell_type": "code",
   "execution_count": 575,
   "metadata": {},
   "outputs": [
    {
     "name": "stdout",
     "output_type": "stream",
     "text": [
      "[[-1.9397406   3.14944433]] [[-0.19427036  0.72930475]]\n"
     ]
    },
    {
     "data": {
      "image/png": "[encoded data removed]",
      "text/plain": [
       "<Figure size 432x288 with 1 Axes>"
      ]
     },
     "metadata": {
      "needs_background": "light"
     },
     "output_type": "display_data"
    }
   ],
   "source": [
    "a = h_b2\n",
    "b = h_b1\n",
    "x_coord = -b / (2*a)\n",
    "\n",
    "\n",
    "sns.distplot(x_coord[np.abs(x_coord) < 1])\n",
    "print(pm.stats.hpd(x_coord, alpha=0.05), pm.stats.hpd(x_coord, alpha=0.33))"
   ]
  },
  {
   "cell_type": "code",
   "execution_count": 576,
   "metadata": {},
   "outputs": [
    {
     "name": "stdout",
     "output_type": "stream",
     "text": [
      "0.2972582261032718\n"
     ]
    }
   ],
   "source": [
    "print(x_coord.mean())"
   ]
  },
  {
   "cell_type": "code",
   "execution_count": 577,
   "metadata": {},
   "outputs": [
    {
     "name": "stderr",
     "output_type": "stream",
     "text": [
      "/Users/gdehol/miniconda3/lib/python3.7/site-packages/pymc3/tuning/starting.py:61: UserWarning: find_MAP should not be used to initialize the NUTS sampler, simply call pymc3.sample() and it will automatically initialize NUTS in a better way.\n",
      "  warnings.warn('find_MAP should not be used to initialize the NUTS sampler, simply call pymc3.sample() and it will automatically initialize NUTS in a better way.')\n",
      "  0%|          | 0/5000 [00:00<?, ?it/s]/Users/gdehol/miniconda3/lib/python3.7/site-packages/theano/tensor/subtensor.py:2197: FutureWarning: Using a non-tuple sequence for multidimensional indexing is deprecated; use `arr[tuple(seq)]` instead of `arr[seq]`. In the future this will be interpreted as an array index, `arr[np.array(seq)]`, which will result either in an error or a different result.\n",
      "  rval = inputs[0].__getitem__(inputs[1:])\n",
      "logp = 160.48, ||grad|| = 2.9278: 100%|██████████| 528/528 [00:00<00:00, 1339.84it/s]    \n"
     ]
    }
   ],
   "source": [
    "with model2:\n",
    "    map = pm.find_MAP()"
   ]
  },
  {
   "cell_type": "code",
   "execution_count": 578,
   "metadata": {},
   "outputs": [
    {
     "data": {
      "text/plain": [
       "0.2655769617500551"
      ]
     },
     "execution_count": 578,
     "metadata": {},
     "output_type": "execute_result"
    }
   ],
   "source": [
    "-map['h_b1'] / (2*map['h_b2'])"
   ]
  },
  {
   "cell_type": "markdown",
   "metadata": {},
   "source": [
    "# Right V1"
   ]
  },
  {
   "cell_type": "code",
   "execution_count": 579,
   "metadata": {},
   "outputs": [
    {
     "name": "stderr",
     "output_type": "stream",
     "text": [
      "Auto-assigning NUTS sampler...\n",
      "Initializing NUTS using jitter+adapt_diag...\n",
      "Multiprocess sampling (4 chains in 4 jobs)\n",
      "NUTS: [sigma_y, b1_, b0_, sigma_h_b1, h_b1, sigma_h_b0, h_b0]\n",
      "Sampling 4 chains: 100%|██████████| 12000/12000 [01:10<00:00, 60.67draws/s] \n",
      "There were 8 divergences after tuning. Increase `target_accept` or reparameterize.\n",
      "There were 22 divergences after tuning. Increase `target_accept` or reparameterize.\n",
      "There were 26 divergences after tuning. Increase `target_accept` or reparameterize.\n",
      "There were 7 divergences after tuning. Increase `target_accept` or reparameterize.\n",
      "The number of effective samples is smaller than 25% for some parameters.\n",
      "Auto-assigning NUTS sampler...\n",
      "Initializing NUTS using jitter+adapt_diag...\n"
     ]
    },
    {
     "name": "stdout",
     "output_type": "stream",
     "text": [
      "Shape.0\n"
     ]
    },
    {
     "name": "stderr",
     "output_type": "stream",
     "text": [
      "Multiprocess sampling (4 chains in 4 jobs)\n",
      "NUTS: [sigma_y, b2_, b1_, b0_, sigma_h_b2, h_b2, sigma_h_b1, h_b1, sigma_h_b0, h_b0]\n",
      "Sampling 4 chains: 100%|██████████| 12000/12000 [02:33<00:00, 77.94draws/s] \n",
      "There were 351 divergences after tuning. Increase `target_accept` or reparameterize.\n",
      "The acceptance probability does not match the target. It is 0.612000057925979, but should be close to 0.8. Try to increase the number of tuning steps.\n",
      "There were 281 divergences after tuning. Increase `target_accept` or reparameterize.\n",
      "The acceptance probability does not match the target. It is 0.62487457536392, but should be close to 0.8. Try to increase the number of tuning steps.\n",
      "There were 47 divergences after tuning. Increase `target_accept` or reparameterize.\n",
      "There were 817 divergences after tuning. Increase `target_accept` or reparameterize.\n",
      "The acceptance probability does not match the target. It is 0.4620930769377686, but should be close to 0.8. Try to increase the number of tuning steps.\n",
      "The gelman-rubin statistic is larger than 1.05 for some parameters. This indicates slight problems during sampling.\n",
      "The estimated number of effective samples is smaller than 200 for some parameters.\n"
     ]
    }
   ],
   "source": [
    "model1, trace1, model2, trace2 = fit_linear_quadratic_model(tmp.loc['V1r'], subj_label='subject_session', x='depth', y='correct')"
   ]
  },
  {
   "cell_type": "code",
   "execution_count": 580,
   "metadata": {},
   "outputs": [
    {
     "data": {
      "text/plain": [
       "<matplotlib.axes._subplots.AxesSubplot at 0xa5b61d278>"
      ]
     },
     "execution_count": 580,
     "metadata": {},
     "output_type": "execute_result"
    },
    {
     "data": {
      "image/png": "[encoded data removed]",
      "text/plain": [
       "<Figure size 432x288 with 1 Axes>"
      ]
     },
     "metadata": {
      "needs_background": "light"
     },
     "output_type": "display_data"
    }
   ],
   "source": [
    "h_b0 = trace2.get_values('h_b0')[:, np.newaxis]\n",
    "h_b1 = trace2.get_values('h_b1')[:, np.newaxis]\n",
    "h_b2 = trace2.get_values('h_b2')[:, np.newaxis]\n",
    "\n",
    "depth = np.linspace(0, 1, 100)[np.newaxis, :]\n",
    "pred_correct = h_b0 + h_b1 * depth + h_b2 * depth**2\n",
    "\n",
    "lb, ub = pm.stats.hpd(pred_correct).T\n",
    "\n",
    "plt.plot(depth.ravel(), pred_correct.mean(0))\n",
    "plt.fill_between(depth.ravel(), lb, ub, alpha=.25)\n",
    "tmp.loc['V1r'].groupby('depth').mean()['correct'].plot(c='k', ls='--', lw=2)"
   ]
  },
  {
   "cell_type": "code",
   "execution_count": 581,
   "metadata": {},
   "outputs": [
    {
     "name": "stderr",
     "output_type": "stream",
     "text": [
      "/Users/gdehol/miniconda3/lib/python3.7/site-packages/pymc3/stats.py:168: FutureWarning: arrays to stack must be passed as a \"sequence\" type such as list or tuple. Support for non-sequence iterables such as generators is deprecated as of NumPy 1.16 and will raise an error in the future.\n",
      "  return np.stack(logp)\n",
      "/Users/gdehol/miniconda3/lib/python3.7/site-packages/theano/tensor/subtensor.py:2197: FutureWarning: Using a non-tuple sequence for multidimensional indexing is deprecated; use `arr[tuple(seq)]` instead of `arr[seq]`. In the future this will be interpreted as an array index, `arr[np.array(seq)]`, which will result either in an error or a different result.\n",
      "  rval = inputs[0].__getitem__(inputs[1:])\n",
      "/Users/gdehol/miniconda3/lib/python3.7/site-packages/pymc3/stats.py:219: UserWarning: For one or more samples the posterior variance of the\n",
      "        log predictive densities exceeds 0.4. This could be indication of\n",
      "        WAIC starting to fail see http://arxiv.org/abs/1507.04544 for details\n",
      "        \n",
      "  \"\"\")\n"
     ]
    },
    {
     "data": {
      "text/html": [
       "<div>\n",
       "<style scoped>\n",
       "    .dataframe tbody tr th:only-of-type {\n",
       "        vertical-align: middle;\n",
       "    }\n",
       "\n",
       "    .dataframe tbody tr th {\n",
       "        vertical-align: top;\n",
       "    }\n",
       "\n",
       "    .dataframe thead th {\n",
       "        text-align: right;\n",
       "    }\n",
       "</style>\n",
       "<table border=\"1\" class=\"dataframe\">\n",
       "  <thead>\n",
       "    <tr style=\"text-align: right;\">\n",
       "      <th></th>\n",
       "      <th>WAIC</th>\n",
       "      <th>pWAIC</th>\n",
       "      <th>dWAIC</th>\n",
       "      <th>weight</th>\n",
       "      <th>SE</th>\n",
       "      <th>dSE</th>\n",
       "      <th>var_warn</th>\n",
       "    </tr>\n",
       "  </thead>\n",
       "  <tbody>\n",
       "    <tr>\n",
       "      <th>quadratic</th>\n",
       "      <td>-291.12</td>\n",
       "      <td>18.16</td>\n",
       "      <td>0</td>\n",
       "      <td>1</td>\n",
       "      <td>9.62</td>\n",
       "      <td>0</td>\n",
       "      <td>1</td>\n",
       "    </tr>\n",
       "    <tr>\n",
       "      <th>linear</th>\n",
       "      <td>-217.78</td>\n",
       "      <td>15.08</td>\n",
       "      <td>73.33</td>\n",
       "      <td>0</td>\n",
       "      <td>10.5</td>\n",
       "      <td>7.98</td>\n",
       "      <td>1</td>\n",
       "    </tr>\n",
       "  </tbody>\n",
       "</table>\n",
       "</div>"
      ],
      "text/plain": [
       "             WAIC  pWAIC  dWAIC weight    SE   dSE var_warn\n",
       "quadratic -291.12  18.16      0      1  9.62     0        1\n",
       "linear    -217.78  15.08  73.33      0  10.5  7.98        1"
      ]
     },
     "execution_count": 581,
     "metadata": {},
     "output_type": "execute_result"
    }
   ],
   "source": [
    "model1.name = 'linear'\n",
    "model2.name = 'quadratic'\n",
    "df_comp_WAIC = pm.compare({model1: trace1, model2: trace2})\n",
    "df_comp_WAIC"
   ]
  },
  {
   "cell_type": "code",
   "execution_count": 582,
   "metadata": {},
   "outputs": [
    {
     "name": "stdout",
     "output_type": "stream",
     "text": [
      "0.5585143276014027 [[0.24115172 1.07753329]] [[0.30843229 0.57749092]]\n"
     ]
    },
    {
     "data": {
      "image/png": "[encoded data removed]",
      "text/plain": [
       "<Figure size 432x288 with 1 Axes>"
      ]
     },
     "metadata": {
      "needs_background": "light"
     },
     "output_type": "display_data"
    }
   ],
   "source": [
    "a = h_b2\n",
    "b = h_b1\n",
    "x_coord = -b / (2*a)\n",
    "\n",
    "\n",
    "\n",
    "sns.distplot(x_coord[np.abs(x_coord) < 1.])\n",
    "print(x_coord.mean(), pm.stats.hpd(x_coord, alpha=0.05), pm.stats.hpd(x_coord, alpha=0.33))"
   ]
  },
  {
   "cell_type": "code",
   "execution_count": 583,
   "metadata": {},
   "outputs": [
    {
     "name": "stderr",
     "output_type": "stream",
     "text": [
      "/Users/gdehol/miniconda3/lib/python3.7/site-packages/pymc3/tuning/starting.py:61: UserWarning: find_MAP should not be used to initialize the NUTS sampler, simply call pymc3.sample() and it will automatically initialize NUTS in a better way.\n",
      "  warnings.warn('find_MAP should not be used to initialize the NUTS sampler, simply call pymc3.sample() and it will automatically initialize NUTS in a better way.')\n",
      "  0%|          | 0/5000 [00:00<?, ?it/s]/Users/gdehol/miniconda3/lib/python3.7/site-packages/theano/tensor/subtensor.py:2197: FutureWarning: Using a non-tuple sequence for multidimensional indexing is deprecated; use `arr[tuple(seq)]` instead of `arr[seq]`. In the future this will be interpreted as an array index, `arr[np.array(seq)]`, which will result either in an error or a different result.\n",
      "  rval = inputs[0].__getitem__(inputs[1:])\n",
      "logp = 146.95, ||grad|| = 1.0561: 100%|██████████| 797/797 [00:00<00:00, 2264.62it/s]         \n"
     ]
    }
   ],
   "source": [
    "with model2:\n",
    "    map = pm.find_MAP()"
   ]
  },
  {
   "cell_type": "code",
   "execution_count": 584,
   "metadata": {},
   "outputs": [
    {
     "data": {
      "text/plain": [
       "0.45282123822182224"
      ]
     },
     "execution_count": 584,
     "metadata": {},
     "output_type": "execute_result"
    }
   ],
   "source": [
    "-map['h_b1'] / (2*map['h_b2'])"
   ]
  },
  {
   "cell_type": "code",
   "execution_count": null,
   "metadata": {},
   "outputs": [],
   "source": []
  }
 ],
 "metadata": {
  "kernelspec": {
   "display_name": "Python 3",
   "language": "python",
   "name": "python3"
  },
  "language_info": {
   "codemirror_mode": {
    "name": "ipython",
    "version": 3
   },
   "file_extension": ".py",
   "mimetype": "text/x-python",
   "name": "python",
   "nbconvert_exporter": "python",
   "pygments_lexer": "ipython3",
   "version": "3.7.4"
  }
 },
 "nbformat": 4,
 "nbformat_minor": 2
}
