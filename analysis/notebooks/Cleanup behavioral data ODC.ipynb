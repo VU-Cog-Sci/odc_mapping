{
 "cells": [
  {
   "cell_type": "code",
   "execution_count": 38,
   "metadata": {},
   "outputs": [],
   "source": [
    "import glob"
   ]
  },
  {
   "cell_type": "code",
   "execution_count": 39,
   "metadata": {},
   "outputs": [],
   "source": [
    "import re\n",
    "reg = re.compile('.*\\/(?P<subject>[a-z]+)_(?P<run>[0-9]+)_[0-9]{4}-[0-9]+-[0-9]+_[0-9]+\\.[0-9]+.\\.[0-9]+(\\.|_)(?P<extension>[A-Za-z_.]+)')"
   ]
  },
  {
   "cell_type": "code",
   "execution_count": 44,
   "metadata": {},
   "outputs": [],
   "source": [
    "import shutil\n",
    "import os.path as op\n",
    "\n",
    "old_dir = '/data/odc/sourcedata/sub-ms/ses-prf/beh/'\n",
    "new_dir = old_dir"
   ]
  },
  {
   "cell_type": "code",
   "execution_count": 45,
   "metadata": {},
   "outputs": [],
   "source": [
    "if 'odc' in old_dir:\n",
    "    acquisition = '07'\n",
    "elif 'prf'in old_dir:\n",
    "    acquisition = '10'"
   ]
  },
  {
   "cell_type": "code",
   "execution_count": 46,
   "metadata": {},
   "outputs": [],
   "source": [
    "for fn in glob.glob(op.join(old_dir, '*')):\n",
    "    d = reg.match(fn).groupdict()\n",
    "    \n",
    "    run = int(d['run'])\n",
    "    subject = d['subject']\n",
    "    \n",
    "    if 'prf' in old_dir:\n",
    "        task = 'prf'\n",
    "    else:\n",
    "        if run % 2 == 0:\n",
    "            task = 'checkerboard'\n",
    "        else:\n",
    "            task = 'fixation'\n",
    "    \n",
    "    \n",
    "    \n",
    "    if d['extension'] in ['colors.log', 'directions.log', 'outputDict.pkl']:\n",
    "        new_extension = d['extension']\n",
    "    elif d['extension'] == 'tsv':\n",
    "        new_extension = 'trials.tsv'\n",
    "    \n",
    "    new_fn = 'sub-{subject}_task-{task}_acq-{acquisition}_run-{run:02d}_{new_extension}'.format(**locals())\n",
    "    \n",
    "    shutil.move(fn, op.join(new_dir, new_fn))"
   ]
  }
 ],
 "metadata": {
  "kernelspec": {
   "display_name": "Python 2",
   "language": "python",
   "name": "python2"
  },
  "language_info": {
   "codemirror_mode": {
    "name": "ipython",
    "version": 2
   },
   "file_extension": ".py",
   "mimetype": "text/x-python",
   "name": "python",
   "nbconvert_exporter": "python",
   "pygments_lexer": "ipython2",
   "version": "2.7.15"
  }
 },
 "nbformat": 4,
 "nbformat_minor": 2
}
