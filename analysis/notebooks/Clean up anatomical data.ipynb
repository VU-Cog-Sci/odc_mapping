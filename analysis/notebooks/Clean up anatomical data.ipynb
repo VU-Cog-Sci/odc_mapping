{
 "cells": [
  {
   "cell_type": "code",
   "execution_count": 2,
   "metadata": {},
   "outputs": [],
   "source": [
    "from nilearn import image"
   ]
  },
  {
   "cell_type": "code",
   "execution_count": 3,
   "metadata": {},
   "outputs": [],
   "source": [
    "memp2rage_inv1 = image.load_img('/data/odc/sourcedata/sub-ms/ses-anat/anat/SBref_sub_12_WIP_MP2RAGEME07_INV1_SENSE_15_1.nii')\n",
    "memp2rage_inv2 = image.load_img('/data/odc/sourcedata/sub-ms/ses-anat/anat/SBref_sub_12_WIP_MP2RAGEME07_INV2_SENSE_14_1.nii')\n",
    "\n",
    "mp2rage_inv1 = image.load_img('/data/odc/sourcedata/sub-ms/ses-anat/anat/SBref_sub_12_WIP_MP2RAGE_INV1_064mmL_SENSE_8_1.nii')\n",
    "mp2rage_inv2 = image.load_img('/data/odc/sourcedata/sub-ms/ses-anat/anat/SBref_sub_12_WIP_MP2RAGE_INV2_064mmL_SENSE_7_1.nii')"
   ]
  },
  {
   "cell_type": "code",
   "execution_count": 7,
   "metadata": {},
   "outputs": [],
   "source": [
    "mp2rage_inv1_mag = image.index_img(mp2rage_inv1, 0)\n",
    "mp2rage_inv1_phase = image.index_img(mp2rage_inv1, 1)\n",
    "\n",
    "mp2rage_inv2_mag = image.index_img(mp2rage_inv2, 0)\n",
    "mp2rage_inv2_phase = image.index_img(mp2rage_inv2, 1)\n",
    "\n"
   ]
  },
  {
   "cell_type": "code",
   "execution_count": 9,
   "metadata": {},
   "outputs": [],
   "source": [
    "mp2rage_inv1_mag.to_filename('/data/odc/sourcedata/sub-ms/ses-anat/anat/sub-ms_ses-anat_acq-mp2rage_inv-1_part-mag_MPRAGE.nii.gz')\n",
    "mp2rage_inv1_phase.to_filename('/data/odc/sourcedata/sub-ms/ses-anat/anat/sub-ms_ses-anat_acq-mp2rage_inv-1_part-phase_MPRAGE.nii.gz')\n",
    "\n",
    "mp2rage_inv2_mag.to_filename('/data/odc/sourcedata/sub-ms/ses-anat/anat/sub-ms_ses-anat_acq-mp2rage_inv-2_part-mag_MPRAGE.nii.gz')\n",
    "mp2rage_inv2_phase.to_filename('/data/odc/sourcedata/sub-ms/ses-anat/anat/sub-ms_ses-anat_acq-mp2rage_inv-2_part-phase_MPRAGE.nii.gz')"
   ]
  },
  {
   "cell_type": "code",
   "execution_count": 13,
   "metadata": {},
   "outputs": [],
   "source": [
    "memp2rage_inv1_mag = image.index_img(memp2rage_inv1, 0)\n",
    "memp2rage_inv1_phase = image.index_img(memp2rage_inv1, 1)\n",
    "\n",
    "memp2rage_inv1_mag.to_filename('/data/odc/sourcedata/sub-ms/ses-anat/anat/sub-ms_ses-anat_acq-memp2rage_inv-1_part-mag_MPRAGE.nii.gz')\n",
    "memp2rage_inv1_phase.to_filename('/data/odc/sourcedata/sub-ms/ses-anat/anat/sub-ms_ses-anat_acq-memp2rage_inv-1_part-phase_MPRAGE.nii.gz')"
   ]
  },
  {
   "cell_type": "code",
   "execution_count": 12,
   "metadata": {},
   "outputs": [],
   "source": [
    "for echo in range(1, 5):\n",
    "    memp2rage_inv2_mag = image.index_img(memp2rage_inv2, echo-1)\n",
    "    memp2rage_inv2_phase = image.index_img(memp2rage_inv2, echo + 3)\n",
    "\n",
    "    memp2rage_inv2_mag.to_filename('/data/odc/sourcedata/sub-ms/ses-anat/anat/sub-ms_ses-anat_acq-memp2rage_inv-2_echo-{echo}_part-mag_MPRAGE.nii.gz'.format(echo=echo))\n",
    "    memp2rage_inv2_phase.to_filename('/data/odc/sourcedata/sub-ms/ses-anat/anat/sub-ms_ses-anat_acq-memp2rage_inv-2_echo-{echo}_part-phase_MPRAGE.nii.gz'.format(echo=echo))"
   ]
  },
  {
   "cell_type": "code",
   "execution_count": 15,
   "metadata": {},
   "outputs": [],
   "source": [
    "b1_30 = image.index_img(image.load_img('/data/odc/sourcedata/sub-ms/ses-anat/anat/SBref_sub_12_WIP_B1map30_SENSE_6_1.nii'), 0)\n",
    "b1_45 = image.index_img(image.load_img('/data/odc/sourcedata/sub-ms/ses-anat/anat/SBref_sub_12_WIP_B1map45_SENSE_9_1.nii'), 0)\n",
    "b1_60 = image.index_img(image.load_img('/data/odc/sourcedata/sub-ms/ses-anat/anat/SBref_sub_12_WIP_B1map60_SENSE_17_1.nii'), 0)"
   ]
  },
  {
   "cell_type": "code",
   "execution_count": 21,
   "metadata": {},
   "outputs": [],
   "source": [
    "b1 = image.math_img('(np.clip(b1_30/1000.*30, 0, 50)/30 + np.clip(b1_45/1000.*45, 0, 50)/45 + np.clip(b1_60/1000.*60, 0, 50)/60) / 3',\n",
    "                   b1_30=b1_30,\n",
    "                   b1_45=b1_45,\n",
    "                   b1_60=b1_60)"
   ]
  },
  {
   "cell_type": "code",
   "execution_count": 22,
   "metadata": {},
   "outputs": [],
   "source": [
    "b1.to_filename('/data/odc/sourcedata/sub-ms/ses-anat/fmap/sub-ms_ses-anat_B1map.nii.gz')"
   ]
  },
  {
   "cell_type": "code",
   "execution_count": 24,
   "metadata": {},
   "outputs": [],
   "source": [
    "t2starw = image.load_img('/data/odc/sourcedata/sub-ms/ses-anat/anat/SBref_sub_12_WIP_T2star06mm_GRmode_default_S2_SENSE_16_1.nii')\n",
    "\n",
    "t2starw_mag = image.index_img(t2starw, 0)\n",
    "t2starw_phase = image.index_img(t2starw, 1)\n",
    "\n",
    "t2starw_mag.to_filename('/data/odc/sourcedata/sub-ms/ses-anat/anat/sub-ms_ses-anat_part-mag_t2starw.nii.gz')\n",
    "t2starw_phase.to_filename('/data/odc/sourcedata/sub-ms/ses-anat/anat/sub-ms_ses-anat_part-phase_t2starw.nii.gz')\n",
    "                        "
   ]
  },
  {
   "cell_type": "code",
   "execution_count": null,
   "metadata": {},
   "outputs": [],
   "source": []
  }
 ],
 "metadata": {
  "kernelspec": {
   "display_name": "Python 3",
   "language": "python",
   "name": "python3"
  },
  "language_info": {
   "codemirror_mode": {
    "name": "ipython",
    "version": 3
   },
   "file_extension": ".py",
   "mimetype": "text/x-python",
   "name": "python",
   "nbconvert_exporter": "python",
   "pygments_lexer": "ipython3",
   "version": "3.6.8"
  }
 },
 "nbformat": 4,
 "nbformat_minor": 2
}
