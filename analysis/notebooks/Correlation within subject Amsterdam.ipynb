{
 "cells": [
  {
   "cell_type": "code",
   "execution_count": 1,
   "metadata": {},
   "outputs": [
    {
     "name": "stderr",
     "output_type": "stream",
     "text": [
      "/Users/gilles/anaconda3/lib/python3.6/site-packages/h5py/__init__.py:36: FutureWarning: Conversion of the second argument of issubdtype from `float` to `np.floating` is deprecated. In future, it will be treated as `np.float64 == np.dtype(float).type`.\n",
      "  from ._conv import register_converters as _register_converters\n"
     ]
    }
   ],
   "source": [
    "import pandas as pd\n",
    "from nilearn import image, plotting, masking\n",
    "from scipy import ndimage \n",
    "import numpy as np\n",
    "import seaborn as sns\n",
    "import matplotlib.pyplot as plt"
   ]
  },
  {
   "cell_type": "code",
   "execution_count": 2,
   "metadata": {},
   "outputs": [],
   "source": [
    "ref = image.load_img('/data/odc/derivatives/spynoza/sub-tk/ses-odc2/func/sub-tk_ses-odc2_task-checkerboard_acq-07_run-02_bold_reference.nii.gz')\n",
    "zmap = image.load_img('/data/odc/derivatives/modelfitting/glm7/sub-tk/ses-odc2/sub-tk_ses-odc2_left_over_right_zmap.nii.gz')\n",
    "\n",
    "layers_left = image.load_img('/data/odc/derivatives/nighres/layers/sub-tk_left_cruise_gwb_layering_depth.nii.gz')\n",
    "layers_right = image.load_img('/data/odc/derivatives/nighres/layers/sub-tk_right_cruise_gwb_layering_depth.nii.gz')\n",
    "layers = image.math_img('layers_l + layers_r', layers_l=layers_left, layers_r=layers_right)\n",
    "\n",
    "layers_bold = image.resample_to_img(layers, zmap, interpolation='nearest')\n",
    "layers_bold.to_filename('/data/odc/zooi/depth_bold.nii.gz')\n",
    "\n",
    "image.resample_to_img('/data/odc/zooi/V1.rh.nii.gz', zmap, 'nearest').to_filename('/data/odc/zooi/V1.rh.bold.nii.gz')\n",
    "image.resample_to_img('/data/odc/zooi/V1.lh.nii.gz', zmap, 'nearest').to_filename('/data/odc/zooi/V1.lh.bold.nii.gz')\n",
    "\n",
    "v1 = image.math_img('v1_lh + v1_rh', v1_lh='/data/odc/zooi/V1.lh.bold.nii.gz', v1_rh='/data/odc/zooi/V1.rh.bold.nii.gz')\n",
    "\n",
    "v1 = image.new_img_like(zmap, ndimage.binary_dilation(v1.get_data(), iterations=2))\n",
    "mask = image.math_img('(v1 > 0) & (depth > 0)', v1=v1, depth=layers_bold, zmap=zmap)"
   ]
  },
  {
   "cell_type": "code",
   "execution_count": 3,
   "metadata": {},
   "outputs": [
    {
     "name": "stdout",
     "output_type": "stream",
     "text": [
      "/data/odc/derivatives/modelfitting/glm7/sub-tk/ses-odc2/sub-tk_ses-odc2_run-1.0_left_psc.nii.gz\n",
      "/data/odc/derivatives/modelfitting/glm7/sub-tk/ses-odc2/sub-tk_ses-odc2_run-10.0_left_psc.nii.gz\n",
      "/data/odc/derivatives/modelfitting/glm7/sub-tk/ses-odc2/sub-tk_ses-odc2_run-2.0_left_psc.nii.gz\n",
      "/data/odc/derivatives/modelfitting/glm7/sub-tk/ses-odc2/sub-tk_ses-odc2_run-3.0_left_psc.nii.gz\n",
      "/data/odc/derivatives/modelfitting/glm7/sub-tk/ses-odc2/sub-tk_ses-odc2_run-4.0_left_psc.nii.gz\n",
      "/data/odc/derivatives/modelfitting/glm7/sub-tk/ses-odc2/sub-tk_ses-odc2_run-5.0_left_psc.nii.gz\n",
      "/data/odc/derivatives/modelfitting/glm7/sub-tk/ses-odc2/sub-tk_ses-odc2_run-6.0_left_psc.nii.gz\n",
      "/data/odc/derivatives/modelfitting/glm7/sub-tk/ses-odc2/sub-tk_ses-odc2_run-7.0_left_psc.nii.gz\n",
      "/data/odc/derivatives/modelfitting/glm7/sub-tk/ses-odc2/sub-tk_ses-odc2_run-8.0_left_psc.nii.gz\n",
      "/data/odc/derivatives/modelfitting/glm7/sub-tk/ses-odc2/sub-tk_ses-odc2_run-9.0_left_psc.nii.gz\n",
      "/data/odc/derivatives/modelfitting/glm7/sub-tk/ses-odc2/sub-tk_ses-odc2_run-1.0_right_psc.nii.gz\n",
      "/data/odc/derivatives/modelfitting/glm7/sub-tk/ses-odc2/sub-tk_ses-odc2_run-10.0_right_psc.nii.gz\n",
      "/data/odc/derivatives/modelfitting/glm7/sub-tk/ses-odc2/sub-tk_ses-odc2_run-2.0_right_psc.nii.gz\n",
      "/data/odc/derivatives/modelfitting/glm7/sub-tk/ses-odc2/sub-tk_ses-odc2_run-3.0_right_psc.nii.gz\n",
      "/data/odc/derivatives/modelfitting/glm7/sub-tk/ses-odc2/sub-tk_ses-odc2_run-4.0_right_psc.nii.gz\n",
      "/data/odc/derivatives/modelfitting/glm7/sub-tk/ses-odc2/sub-tk_ses-odc2_run-5.0_right_psc.nii.gz\n",
      "/data/odc/derivatives/modelfitting/glm7/sub-tk/ses-odc2/sub-tk_ses-odc2_run-6.0_right_psc.nii.gz\n",
      "/data/odc/derivatives/modelfitting/glm7/sub-tk/ses-odc2/sub-tk_ses-odc2_run-7.0_right_psc.nii.gz\n",
      "/data/odc/derivatives/modelfitting/glm7/sub-tk/ses-odc2/sub-tk_ses-odc2_run-8.0_right_psc.nii.gz\n",
      "/data/odc/derivatives/modelfitting/glm7/sub-tk/ses-odc2/sub-tk_ses-odc2_run-9.0_right_psc.nii.gz\n"
     ]
    }
   ],
   "source": [
    "import glob\n",
    "import re\n",
    "reg = re.compile('.*/sub-tk_ses-odc2_run-(?P<run>[0-9\\.]+)_(?P<stimulation>[a-z]+)_psc.nii.gz')\n",
    "\n",
    "right = glob.glob('/data/odc/derivatives/modelfitting/glm7/sub-tk/ses-odc2/sub-tk_ses-odc2_run-*0_right_psc.nii.gz')\n",
    "left = glob.glob('/data/odc/derivatives/modelfitting/glm7/sub-tk/ses-odc2/sub-tk_ses-odc2_run-*0_left_psc.nii.gz')\n",
    "psc = left + right\n",
    "\n",
    "df = []\n",
    "depth_map = masking.apply_mask(layers_bold, mask)\n",
    "z = masking.apply_mask(zmap, mask)\n",
    "\n",
    "for fn in psc:\n",
    "    print(fn)\n",
    "    d = reg.match(fn).groupdict()\n",
    "    d['task'] = int(float(d['run'])) % 2\n",
    "    d['psc'] = masking.apply_mask(fn, mask)\n",
    "    d['depth'] = depth_map\n",
    "    d['z'] = z\n",
    "    d['run'] = int(float(d['run']))\n",
    "    \n",
    "    tmp = pd.DataFrame(d)\n",
    "    tmp.index.set_names('voxel', inplace=True)\n",
    "    tmp.reset_index(inplace=True)\n",
    "    \n",
    "    df.append(tmp)\n",
    "    \n",
    "df = pd.concat(df)"
   ]
  },
  {
   "cell_type": "code",
   "execution_count": 4,
   "metadata": {},
   "outputs": [],
   "source": [
    "tmp = df.pivot_table(columns=['stimulation', 'voxel'], index='run', values='psc')\n",
    "\n",
    "contrast = tmp['left'] - tmp['right']"
   ]
  },
  {
   "cell_type": "code",
   "execution_count": 7,
   "metadata": {},
   "outputs": [],
   "source": [
    "import scipy as sp"
   ]
  },
  {
   "cell_type": "code",
   "execution_count": 8,
   "metadata": {},
   "outputs": [
    {
     "data": {
      "text/plain": [
       "(0.4537281116955115, 0.0)"
      ]
     },
     "execution_count": 8,
     "metadata": {},
     "output_type": "execute_result"
    }
   ],
   "source": [
    "sp.stats.pearsonr(contrast.loc[:5].mean(), contrast.loc[5:].mean())"
   ]
  },
  {
   "cell_type": "code",
   "execution_count": 16,
   "metadata": {},
   "outputs": [
    {
     "data": {
      "text/plain": [
       "2.1361276931476056"
      ]
     },
     "execution_count": 16,
     "metadata": {},
     "output_type": "execute_result"
    }
   ],
   "source": [
    "np.percentile(df['z'], 95)"
   ]
  },
  {
   "cell_type": "code",
   "execution_count": null,
   "metadata": {},
   "outputs": [],
   "source": []
  }
 ],
 "metadata": {
  "kernelspec": {
   "display_name": "Python 3",
   "language": "python",
   "name": "python3"
  },
  "language_info": {
   "codemirror_mode": {
    "name": "ipython",
    "version": 3
   },
   "file_extension": ".py",
   "mimetype": "text/x-python",
   "name": "python",
   "nbconvert_exporter": "python",
   "pygments_lexer": "ipython3",
   "version": "3.6.1"
  }
 },
 "nbformat": 4,
 "nbformat_minor": 2
}
